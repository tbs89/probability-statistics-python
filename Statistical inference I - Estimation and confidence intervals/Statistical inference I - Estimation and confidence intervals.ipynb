{
 "cells": [
  {
   "cell_type": "markdown",
   "id": "b888367b",
   "metadata": {},
   "source": [
    "# Statistical inference I - Estimation and confidence intervals"
   ]
  },
  {
   "cell_type": "markdown",
   "id": "04d3a400",
   "metadata": {},
   "source": [
    "In a study on tobacco consumption during pregnancy, a sample of pregnant women was interviewed to gather information about their smoking habits as well as sociodemographic information. Physical parameters of the mothers and newborns were also collected.\n",
    "\n",
    "The data can be found in the data folder <code>pesonac_tab.csv</code>. The variables in the dataset are:\n",
    "\n",
    "- nserie: mother's identifier\n",
    "- age: mother's age\n",
    "- tabaco: smoker or non-smoker\n",
    "- tbco2: number of cigarettes consumed during pregnancy\n",
    "- socon2: Educational level achieved\n",
    "- socon3: employment status\n",
    "- tgr: gestational age at birth in weeks\n",
    "- sex: gender of the newborn\n",
    "- pn: weight of the newborn\n",
    "- pm: mother's weight\n",
    "- tm: mother's height\n",
    "- tp: father's height\n",
    "- tn: newborn's height\n",
    "\n",
    "\n",
    "The primary goal of this study is to evaluate the influence of smoking and the physical and sociological characteristics of the mother on the newborn's health. Specifically, the \"Weight of the newborn\" and the \"gestational age\" can be considered as study variables, while the other variables can be seen as explanatory."
   ]
  },
  {
   "cell_type": "code",
   "execution_count": 1,
   "id": "e4d03bf9",
   "metadata": {},
   "outputs": [],
   "source": [
    "import pandas as pd\n",
    "import numpy as np\n",
    "import math\n",
    "import scipy.stats as stats\n",
    "\n",
    "import matplotlib.pyplot as plt\n",
    "import seaborn as sns"
   ]
  },
  {
   "cell_type": "code",
   "execution_count": 2,
   "id": "d3bbdbb8",
   "metadata": {},
   "outputs": [
    {
     "data": {
      "text/html": [
       "<div>\n",
       "<style scoped>\n",
       "    .dataframe tbody tr th:only-of-type {\n",
       "        vertical-align: middle;\n",
       "    }\n",
       "\n",
       "    .dataframe tbody tr th {\n",
       "        vertical-align: top;\n",
       "    }\n",
       "\n",
       "    .dataframe thead th {\n",
       "        text-align: right;\n",
       "    }\n",
       "</style>\n",
       "<table border=\"1\" class=\"dataframe\">\n",
       "  <thead>\n",
       "    <tr style=\"text-align: right;\">\n",
       "      <th></th>\n",
       "      <th>nserie</th>\n",
       "      <th>age</th>\n",
       "      <th>tabco2</th>\n",
       "      <th>socon2</th>\n",
       "      <th>socon3</th>\n",
       "      <th>tgr</th>\n",
       "      <th>sex</th>\n",
       "      <th>pn</th>\n",
       "      <th>pm</th>\n",
       "      <th>tm</th>\n",
       "      <th>tp</th>\n",
       "      <th>tn</th>\n",
       "      <th>tabaco</th>\n",
       "    </tr>\n",
       "  </thead>\n",
       "  <tbody>\n",
       "    <tr>\n",
       "      <th>0</th>\n",
       "      <td>3</td>\n",
       "      <td>29</td>\n",
       "      <td>0</td>\n",
       "      <td>University studies</td>\n",
       "      <td>Employed</td>\n",
       "      <td>40</td>\n",
       "      <td>Male</td>\n",
       "      <td>3200</td>\n",
       "      <td>70.0</td>\n",
       "      <td>175</td>\n",
       "      <td>183</td>\n",
       "      <td>51</td>\n",
       "      <td>No</td>\n",
       "    </tr>\n",
       "    <tr>\n",
       "      <th>1</th>\n",
       "      <td>5</td>\n",
       "      <td>35</td>\n",
       "      <td>0</td>\n",
       "      <td>University studies</td>\n",
       "      <td>Employed</td>\n",
       "      <td>42</td>\n",
       "      <td>Female</td>\n",
       "      <td>3800</td>\n",
       "      <td>64.0</td>\n",
       "      <td>162</td>\n",
       "      <td>0</td>\n",
       "      <td>520</td>\n",
       "      <td>No</td>\n",
       "    </tr>\n",
       "    <tr>\n",
       "      <th>2</th>\n",
       "      <td>9</td>\n",
       "      <td>29</td>\n",
       "      <td>0</td>\n",
       "      <td>University studies</td>\n",
       "      <td>Unemployed</td>\n",
       "      <td>37</td>\n",
       "      <td>Female</td>\n",
       "      <td>3200</td>\n",
       "      <td>67.0</td>\n",
       "      <td>164</td>\n",
       "      <td>174</td>\n",
       "      <td>500</td>\n",
       "      <td>No</td>\n",
       "    </tr>\n",
       "    <tr>\n",
       "      <th>3</th>\n",
       "      <td>10</td>\n",
       "      <td>28</td>\n",
       "      <td>0</td>\n",
       "      <td>Primary studies</td>\n",
       "      <td>Unemployed</td>\n",
       "      <td>40</td>\n",
       "      <td>Male</td>\n",
       "      <td>4400</td>\n",
       "      <td>84.0</td>\n",
       "      <td>0</td>\n",
       "      <td>0</td>\n",
       "      <td>555</td>\n",
       "      <td>No</td>\n",
       "    </tr>\n",
       "    <tr>\n",
       "      <th>4</th>\n",
       "      <td>11</td>\n",
       "      <td>28</td>\n",
       "      <td>6</td>\n",
       "      <td>Secondary studies</td>\n",
       "      <td>Employed</td>\n",
       "      <td>39</td>\n",
       "      <td>Male</td>\n",
       "      <td>3050</td>\n",
       "      <td>81.0</td>\n",
       "      <td>161</td>\n",
       "      <td>175</td>\n",
       "      <td>500</td>\n",
       "      <td>Si</td>\n",
       "    </tr>\n",
       "  </tbody>\n",
       "</table>\n",
       "</div>"
      ],
      "text/plain": [
       "   nserie  age  tabco2              socon2      socon3  tgr     sex    pn  \\\n",
       "0       3   29       0  University studies    Employed   40    Male  3200   \n",
       "1       5   35       0  University studies    Employed   42  Female  3800   \n",
       "2       9   29       0  University studies  Unemployed   37  Female  3200   \n",
       "3      10   28       0     Primary studies  Unemployed   40    Male  4400   \n",
       "4      11   28       6   Secondary studies    Employed   39    Male  3050   \n",
       "\n",
       "     pm   tm   tp   tn tabaco  \n",
       "0  70.0  175  183   51     No  \n",
       "1  64.0  162    0  520     No  \n",
       "2  67.0  164  174  500     No  \n",
       "3  84.0    0    0  555     No  \n",
       "4  81.0  161  175  500     Si  "
      ]
     },
     "execution_count": 2,
     "metadata": {},
     "output_type": "execute_result"
    }
   ],
   "source": [
    "df = pd.read_csv(\"data/pesonac_tab.csv\").drop(columns=[\"Unnamed: 0.1\",\"Unnamed: 0\"])\n",
    "df.head()"
   ]
  },
  {
   "cell_type": "markdown",
   "id": "cded5820",
   "metadata": {},
   "source": [
    "# Excercise 1\n",
    "\n",
    "Find a confidence interval for the average weight of the newborn with a 90% confidence level for:\n",
    "\n",
    "- **a) Smoker Women**"
   ]
  },
  {
   "cell_type": "code",
   "execution_count": 3,
   "id": "47b1138e",
   "metadata": {},
   "outputs": [
    {
     "name": "stdout",
     "output_type": "stream",
     "text": [
      "Confidence Interval for smoker women:\n",
      "3090.8111898960437 - 3230.5320936860458\n"
     ]
    }
   ],
   "source": [
    "smoker_data = df['pn'][df['tabaco'] == \"Si\"]\n",
    "confidence_interval_smoker = stats.t.interval(0.9, len(smoker_data)-1, loc=smoker_data.mean(), scale=smoker_data.sem())\n",
    "\n",
    "\n",
    "print(f\"Confidence Interval for smoker women:\\n{confidence_interval_smoker[0]} - {confidence_interval_smoker[1]}\")"
   ]
  },
  {
   "cell_type": "markdown",
   "id": "9ed1cd00",
   "metadata": {},
   "source": [
    "- **b) Non-Smoker Women**"
   ]
  },
  {
   "cell_type": "code",
   "execution_count": 4,
   "id": "6c5701fa",
   "metadata": {},
   "outputs": [
    {
     "name": "stdout",
     "output_type": "stream",
     "text": [
      "Confidence Interval for non-smoker:\n",
      "3281.3227100349654 - 3371.854185271894\n"
     ]
    }
   ],
   "source": [
    "nonsmoker_data = df['pn'][df['tabaco'] == \"No\"]\n",
    "confidence_interval_nonsmoker = stats.t.interval(0.9, len(nonsmoker_data)-1, loc=nonsmoker_data.mean(), scale=nonsmoker_data.sem())\n",
    "\n",
    "\n",
    "print(f\"Confidence Interval for non-smoker:\\n{confidence_interval_nonsmoker[0]} - {confidence_interval_nonsmoker[1]}\")"
   ]
  },
  {
   "cell_type": "markdown",
   "id": "69eb65f8",
   "metadata": {},
   "source": [
    "- **What conclusion can we draw about the birth weight depending on whether the mother was a smoker or not? (especially focus on the means and confidence intervals).**"
   ]
  },
  {
   "cell_type": "code",
   "execution_count": 5,
   "id": "9528e821",
   "metadata": {},
   "outputs": [
    {
     "data": {
      "text/plain": [
       "((3090.8111898960437, 3230.5320936860458),\n",
       " (3281.3227100349654, 3371.854185271894),\n",
       " 3272.493917274939)"
      ]
     },
     "execution_count": 5,
     "metadata": {},
     "output_type": "execute_result"
    }
   ],
   "source": [
    "general_mean = df['pn'].mean()\n",
    "\n",
    "confidence_interval_smoker, confidence_interval_nonsmoker, general_mean"
   ]
  },
  {
   "cell_type": "markdown",
   "id": "b62bc8d4",
   "metadata": {},
   "source": [
    "**INSIGHTS**\n",
    "\n",
    "We can observe that the confidence interval for the birth weight of babies born to smoking mothers is below the general average and the confidence interval of non-smoking mothers. In other words, we can conclude that the newborn's weight is lower in women who smoked during pregnancy."
   ]
  },
  {
   "cell_type": "code",
   "execution_count": 6,
   "id": "79c6b046",
   "metadata": {},
   "outputs": [
    {
     "data": {
      "image/png": "[encoded data removed]",
      "text/plain": [
       "<Figure size 1000x700 with 1 Axes>"
      ]
     },
     "metadata": {},
     "output_type": "display_data"
    }
   ],
   "source": [
    "# Visualization\n",
    "sns.set_style(\"whitegrid\")\n",
    "\n",
    "plt.figure(figsize=(10, 7))\n",
    "sns.boxplot(x=\"tabaco\", y=\"pn\", data=df, palette=\"Set3\")\n",
    "\n",
    "plt.title(\"Distribution of Newborn Weight Based on Mother's Smoking Habit\", fontsize=16)\n",
    "plt.xlabel(\"Mother's Smoking Habit\", fontsize=14)\n",
    "plt.ylabel(\"Newborn Weight (grams)\", fontsize=14)\n",
    "plt.xticks([0, 1], [\"Smoker\", \"Non-smoker\"])\n",
    "plt.show()"
   ]
  },
  {
   "cell_type": "markdown",
   "id": "56a47394",
   "metadata": {},
   "source": [
    "# Excercise 2\n",
    "\n",
    "Now, we want to study the proportion of newborns with a weight less than 3000 grams\n",
    "\n",
    "- **a) Calculate a 95% confidence interval for this proportion**"
   ]
  },
  {
   "cell_type": "code",
   "execution_count": 7,
   "id": "fb02046e",
   "metadata": {},
   "outputs": [
    {
     "data": {
      "text/plain": [
       "(0.2041197141697544, 0.2873644707450874)"
      ]
     },
     "execution_count": 7,
     "metadata": {},
     "output_type": "execute_result"
    }
   ],
   "source": [
    "# Count the number of newborns with a weight less than 3000 grams\n",
    "len3000 = sum(df['pn'] < 3000)\n",
    "\n",
    "# Count the total number of newborns\n",
    "len_total = len(df)\n",
    "\n",
    "# Calculate the proportion of newborns weighing less than 3000 grams\n",
    "prop = len3000 / len_total\n",
    "\n",
    "# Calculate the z-value for a 95% confidence level\n",
    "z = stats.norm.ppf(1 - (1-0.95)/2)\n",
    "\n",
    "# Calculate the margin of error using the formula for proportions\n",
    "margin_of_error = z * math.sqrt(prop * (1 - prop) / len_total)\n",
    "\n",
    "# Determine the confidence interval by adding and subtracting the margin of error from the proportion\n",
    "conf_interval = (prop - margin_of_error, prop + margin_of_error)\n",
    "\n",
    "# Output confidence interval\n",
    "conf_interval"
   ]
  },
  {
   "cell_type": "markdown",
   "id": "ad22e726",
   "metadata": {},
   "source": [
    "- **b) If we want to calculate the confidence interval as in the previous section (95%) but with a margin of error less than 0.02, determine the minimum sample size required, using the sample from the previous section as prior information.**"
   ]
  },
  {
   "cell_type": "code",
   "execution_count": 8,
   "id": "65f1f086",
   "metadata": {},
   "outputs": [
    {
     "name": "stdout",
     "output_type": "stream",
     "text": [
      "Confidence interval: (0.2041197141697544, 0.2873644707450874)\n",
      "Required sample size: 1780.0639896154573\n"
     ]
    }
   ],
   "source": [
    "# Define the desired margin of error\n",
    "desired_margin_of_error = 0.02\n",
    "\n",
    "# Use the formula to calculate the required sample size based on the desired margin of error\n",
    "required_sample_size = (z**2 * prop * (1 - prop)) / desired_margin_of_error**2\n",
    "\n",
    "# Output the confidence interval and the required sample size\n",
    "print(f\"Confidence interval: {conf_interval}\\nRequired sample size: {required_sample_size}\")"
   ]
  },
  {
   "cell_type": "markdown",
   "id": "e41ba276",
   "metadata": {},
   "source": [
    "# Excercise 3\n",
    "\n",
    "Researchers believe that, regardless of whether the mother smokes or not, the gestational age at birth is more than 39 weeks. The person who conducted the analysis did not specify the R code for the test correctly and performed the following:\n",
    "\n",
    "- **a) From the confidence interval, can we conclude that the mean is greater than 39? And with the p-value? Explain your answer.**\n",
    "\n",
    "The confidence interval does not include 39, so we can reject the null hypothesis. This means we have evidence to suggest that the mean is more than 39 weeks. If we observe the p-value, we cannot come to any conclusion because it depends on the definition of the mean (mu) and the sidedness of the test. In this case, since it has not been correctly defined, we cannot make any conclusions based on the p-value.\n",
    "\n",
    "\n",
    "- **b) How many patients were in the sample?**"
   ]
  },
  {
   "cell_type": "code",
   "execution_count": 9,
   "id": "5d0a8bd3",
   "metadata": {},
   "outputs": [
    {
     "name": "stdout",
     "output_type": "stream",
     "text": [
      "Total patients: 411\n"
     ]
    }
   ],
   "source": [
    "total_patients = df.shape[0]\n",
    "\n",
    "print(f\"Total patients: {total_patients}\")"
   ]
  }
 ],
 "metadata": {
  "kernelspec": {
   "display_name": "Python 3 (ipykernel)",
   "language": "python",
   "name": "python3"
  },
  "language_info": {
   "codemirror_mode": {
    "name": "ipython",
    "version": 3
   },
   "file_extension": ".py",
   "mimetype": "text/x-python",
   "name": "python",
   "nbconvert_exporter": "python",
   "pygments_lexer": "ipython3",
   "version": "3.11.4"
  }
 },
 "nbformat": 4,
 "nbformat_minor": 5
}
