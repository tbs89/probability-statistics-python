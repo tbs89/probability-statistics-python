{
 "cells": [
  {
   "cell_type": "markdown",
   "id": "689fb4c9",
   "metadata": {},
   "source": [
    "# Statistical inference II - Hypothesis testing"
   ]
  },
  {
   "cell_type": "markdown",
   "id": "b14e3f90",
   "metadata": {},
   "source": [
    "The Titanic tragedy is one of the most renowned events in history. The sinking of the ship on April 15, 1912, led to the deaths of over 1500 passengers and crew. We have a representative sample of 887 passengers, each with a series of individual characteristics and journey details. The Titanic dataset serves as a valuable source to study various aspects of this event, like passenger survival rates. In this Python notebook, the focus will be on comparing data groups using hypothesis testing. The dataset is provided in the data folder.\n",
    "\n",
    "The variables present in the dataset are as follows:\n",
    "\n",
    "- <code>PassengerId:</code> Passenger's identification number.\n",
    "- <code>Survived:</code> Indicator of whether the passenger survived (Yes) or did not survive (No) the Titanic sinking.\n",
    "- <code>Pclass:</code> Passenger's ticket class (First = First Class, Second = Second Class, Third = Third Class).\n",
    "- <code>Name:</code> Passenger's name.\n",
    "- <code>Sex:</code> Passenger's gender.\n",
    "- <code>Age:</code> Passenger's age. May contain fractional values if the passenger is an infant.\n",
    "- <code>SibSp:</code> Number of siblings/spouses aboard the Titanic.\n",
    "- <code>Parch:</code> Number of parents/children aboard the Titanic.\n",
    "- <code>Ticket:</code> Passenger's ticket number.\n",
    "- <code>Fare:</code> Fare paid by the passenger.\n",
    "- <code>Cabin:</code> Passenger's cabin number.\n",
    "- <code>Embarked:</code> Passenger's port of embarkation (C = Cherbourg, Q = Queenstown, S = Southampton)."
   ]
  },
  {
   "cell_type": "code",
   "execution_count": 1,
   "id": "f5bbb16c",
   "metadata": {},
   "outputs": [],
   "source": [
    "import pandas as pd\n",
    "from scipy.stats import ttest_1samp\n",
    "from scipy.stats import ttest_ind\n",
    "from scipy import stats\n",
    "from statsmodels.stats.proportion import proportions_ztest\n",
    "\n",
    "import matplotlib.pyplot as plt\n",
    "import seaborn as sns"
   ]
  },
  {
   "cell_type": "code",
   "execution_count": 2,
   "id": "3e6d34ba",
   "metadata": {},
   "outputs": [
    {
     "data": {
      "text/html": [
       "<div>\n",
       "<style scoped>\n",
       "    .dataframe tbody tr th:only-of-type {\n",
       "        vertical-align: middle;\n",
       "    }\n",
       "\n",
       "    .dataframe tbody tr th {\n",
       "        vertical-align: top;\n",
       "    }\n",
       "\n",
       "    .dataframe thead th {\n",
       "        text-align: right;\n",
       "    }\n",
       "</style>\n",
       "<table border=\"1\" class=\"dataframe\">\n",
       "  <thead>\n",
       "    <tr style=\"text-align: right;\">\n",
       "      <th></th>\n",
       "      <th>PassengerId</th>\n",
       "      <th>Survived</th>\n",
       "      <th>Pclass</th>\n",
       "      <th>Name</th>\n",
       "      <th>Sex</th>\n",
       "      <th>Age</th>\n",
       "      <th>SibSp</th>\n",
       "      <th>Parch</th>\n",
       "      <th>Ticket</th>\n",
       "      <th>Fare</th>\n",
       "      <th>Cabin</th>\n",
       "      <th>Embarked</th>\n",
       "    </tr>\n",
       "  </thead>\n",
       "  <tbody>\n",
       "    <tr>\n",
       "      <th>0</th>\n",
       "      <td>1</td>\n",
       "      <td>0</td>\n",
       "      <td>3</td>\n",
       "      <td>Braund, Mr. Owen Harris</td>\n",
       "      <td>male</td>\n",
       "      <td>22.0</td>\n",
       "      <td>1</td>\n",
       "      <td>0</td>\n",
       "      <td>A/5 21171</td>\n",
       "      <td>7.2500</td>\n",
       "      <td>NaN</td>\n",
       "      <td>S</td>\n",
       "    </tr>\n",
       "    <tr>\n",
       "      <th>1</th>\n",
       "      <td>2</td>\n",
       "      <td>1</td>\n",
       "      <td>1</td>\n",
       "      <td>Cumings, Mrs. John Bradley (Florence Briggs Th...</td>\n",
       "      <td>female</td>\n",
       "      <td>38.0</td>\n",
       "      <td>1</td>\n",
       "      <td>0</td>\n",
       "      <td>PC 17599</td>\n",
       "      <td>71.2833</td>\n",
       "      <td>C85</td>\n",
       "      <td>C</td>\n",
       "    </tr>\n",
       "    <tr>\n",
       "      <th>2</th>\n",
       "      <td>3</td>\n",
       "      <td>1</td>\n",
       "      <td>3</td>\n",
       "      <td>Heikkinen, Miss. Laina</td>\n",
       "      <td>female</td>\n",
       "      <td>26.0</td>\n",
       "      <td>0</td>\n",
       "      <td>0</td>\n",
       "      <td>STON/O2. 3101282</td>\n",
       "      <td>7.9250</td>\n",
       "      <td>NaN</td>\n",
       "      <td>S</td>\n",
       "    </tr>\n",
       "    <tr>\n",
       "      <th>3</th>\n",
       "      <td>4</td>\n",
       "      <td>1</td>\n",
       "      <td>1</td>\n",
       "      <td>Futrelle, Mrs. Jacques Heath (Lily May Peel)</td>\n",
       "      <td>female</td>\n",
       "      <td>35.0</td>\n",
       "      <td>1</td>\n",
       "      <td>0</td>\n",
       "      <td>113803</td>\n",
       "      <td>53.1000</td>\n",
       "      <td>C123</td>\n",
       "      <td>S</td>\n",
       "    </tr>\n",
       "    <tr>\n",
       "      <th>4</th>\n",
       "      <td>5</td>\n",
       "      <td>0</td>\n",
       "      <td>3</td>\n",
       "      <td>Allen, Mr. William Henry</td>\n",
       "      <td>male</td>\n",
       "      <td>35.0</td>\n",
       "      <td>0</td>\n",
       "      <td>0</td>\n",
       "      <td>373450</td>\n",
       "      <td>8.0500</td>\n",
       "      <td>NaN</td>\n",
       "      <td>S</td>\n",
       "    </tr>\n",
       "  </tbody>\n",
       "</table>\n",
       "</div>"
      ],
      "text/plain": [
       "   PassengerId  Survived  Pclass  \\\n",
       "0            1         0       3   \n",
       "1            2         1       1   \n",
       "2            3         1       3   \n",
       "3            4         1       1   \n",
       "4            5         0       3   \n",
       "\n",
       "                                                Name     Sex   Age  SibSp  \\\n",
       "0                            Braund, Mr. Owen Harris    male  22.0      1   \n",
       "1  Cumings, Mrs. John Bradley (Florence Briggs Th...  female  38.0      1   \n",
       "2                             Heikkinen, Miss. Laina  female  26.0      0   \n",
       "3       Futrelle, Mrs. Jacques Heath (Lily May Peel)  female  35.0      1   \n",
       "4                           Allen, Mr. William Henry    male  35.0      0   \n",
       "\n",
       "   Parch            Ticket     Fare Cabin Embarked  \n",
       "0      0         A/5 21171   7.2500   NaN        S  \n",
       "1      0          PC 17599  71.2833   C85        C  \n",
       "2      0  STON/O2. 3101282   7.9250   NaN        S  \n",
       "3      0            113803  53.1000  C123        S  \n",
       "4      0            373450   8.0500   NaN        S  "
      ]
     },
     "execution_count": 2,
     "metadata": {},
     "output_type": "execute_result"
    }
   ],
   "source": [
    "titanic = pd.read_csv(\"data/titanic.csv\")\n",
    "titanic.head()"
   ]
  },
  {
   "cell_type": "markdown",
   "id": "f4afc09e",
   "metadata": {},
   "source": [
    "# Exercise 1\n",
    "\n",
    "\n",
    "\n",
    "\n",
    "- **a) Initially, it is proposed to assess whether the sample is representative of the Titanic's passengers. For this, we want to contrast if the average age of passengers in our sample is different from the known theoretical average of 30 years. Perform the hypothesis test. Can we reject the null hypothesis of equality at a significance level of 0.05? Explain your answer.**"
   ]
  },
  {
   "cell_type": "code",
   "execution_count": 3,
   "id": "d02aa3e7",
   "metadata": {},
   "outputs": [
    {
     "name": "stdout",
     "output_type": "stream",
     "text": [
      "t-statistic: -0.5534583115970276\n",
      "p-value: 0.5801231230388639\n"
     ]
    }
   ],
   "source": [
    "ages = titanic['Age'].dropna()\n",
    "t_stat, p_value = ttest_1samp(ages, 30)\n",
    "\n",
    "print(\"t-statistic:\", t_stat)\n",
    "print(\"p-value:\", p_value)"
   ]
  },
  {
   "cell_type": "markdown",
   "id": "00917062",
   "metadata": {},
   "source": [
    "If the p-value obtained from the test is less than 0.05, we can reject the null hypothesis, indicating there's a significant difference between the sample mean and the theoretical mean of 30. Otherwise, we fail to reject the null hypothesis, suggesting that the sample mean is not significantly different from 30 years.\n",
    "\n",
    "You can interpret the actual p-value using the output. If p_value < 0.05, it means the sample average age is significantly different from 30 years. Otherwise, there is no statistical evidence to say that the average age of the sample differs from 30 years."
   ]
  },
  {
   "cell_type": "markdown",
   "id": "26c250bc",
   "metadata": {},
   "source": [
    "- **b) Regarding the gender of the passengers, the proportion of men on that Titanic voyage was 65%. Is there sufficient evidence to consider that the proportion of men in the sample is different from the total? Perform the contrast and explain the answer.**"
   ]
  },
  {
   "cell_type": "code",
   "execution_count": 4,
   "id": "1a5b31b3",
   "metadata": {},
   "outputs": [
    {
     "name": "stdout",
     "output_type": "stream",
     "text": [
      "z-statistic: -0.15077334891903818\n",
      "p-value: 0.8801545103795302\n"
     ]
    }
   ],
   "source": [
    "num_men = (titanic['Sex'] == 'male').sum()\n",
    "total_passengers = len(titanic)\n",
    "\n",
    "stat, p_value = proportions_ztest(num_men, total_passengers, 0.65)\n",
    "print(\"z-statistic:\", stat)\n",
    "print(\"p-value:\", p_value)"
   ]
  },
  {
   "cell_type": "markdown",
   "id": "f6609e97",
   "metadata": {},
   "source": [
    "If the p-value obtained from the test is less than 0.05, we can reject the null hypothesis, indicating there's a significant difference between the observed proportion of men and the known proportion of 65%. Otherwise, we fail to reject the null hypothesis, suggesting that the observed proportion of men in the sample is not significantly different from 65%.\n",
    "\n",
    "From the given result, with a p-value of 0.880154, there's no statistical evidence to suggest that the proportion of men in the sample differs from 65%. The sample's estimated proportion of men is 64.7%, with a 95% confidence interval of (61.5%, 67.8%)."
   ]
  },
  {
   "cell_type": "markdown",
   "id": "f142c423",
   "metadata": {},
   "source": [
    "- **c) We want to test if the proportion of passengers traveling in third class is higher for men compared to women. What hypothesis test would you propose to compare the proportion between groups?**\n",
    "\n",
    "<center>𝐻0 ∶ 𝜋 man = 𝜋 woman</center>\n",
    "\n",
    "<center>𝐻1 ∶ 𝜋 man > 𝜋 woman</center>\n",
    "\n",
    "A one-sided test is proposed with a null hypothesis of equal proportions between genders and an alternative hypothesis that the proportion is higher in the male group"
   ]
  },
  {
   "cell_type": "code",
   "execution_count": 5,
   "id": "56ee880a",
   "metadata": {},
   "outputs": [
    {
     "name": "stdout",
     "output_type": "stream",
     "text": [
      "z-statistic: 4.093660367729888\n",
      "p-value: 2.1230807660367627e-05\n"
     ]
    }
   ],
   "source": [
    "# Count of males in third class\n",
    "male_third_class = (titanic[(titanic['Sex'] == 'male') & (titanic['Pclass'] == 3)]).shape[0]\n",
    "\n",
    "# Count of females in third class\n",
    "female_third_class = (titanic[(titanic['Sex'] == 'female') & (titanic['Pclass'] == 3)]).shape[0]\n",
    "\n",
    "# Total number of males and females\n",
    "num_males = (titanic['Sex'] == 'male').sum()\n",
    "num_females = (titanic['Sex'] == 'female').sum()\n",
    "\n",
    "# Proportions z-test\n",
    "stat, p_value = proportions_ztest([male_third_class, female_third_class], [num_males, num_females], alternative='larger')\n",
    "\n",
    "print(\"z-statistic:\", stat)\n",
    "print(\"p-value:\", p_value)"
   ]
  },
  {
   "cell_type": "markdown",
   "id": "23560c1b",
   "metadata": {},
   "source": [
    "From the results, the z-statistic is 4.0937 and the p-value is significantly less than 0.05. This provides strong evidence against the null hypothesis. Thus, we can reject the null hypothesis in favor of the alternative hypothesis.\n",
    "\n",
    "In simpler terms: There's a statistically significant difference in the proportions of males and females traveling in third class, with males being more likely. Specifically, the proportion of males traveling in third class is significantly higher than the proportion of females in third class."
   ]
  },
  {
   "cell_type": "markdown",
   "id": "f0c825e2",
   "metadata": {},
   "source": [
    "- **d) Create a contingency table between the variables gender and whether they traveled in third class or not. Also, perform the hypothesis test proposed in the previous section with a significance level of 0.05.**"
   ]
  },
  {
   "cell_type": "code",
   "execution_count": 6,
   "id": "19aac6de",
   "metadata": {},
   "outputs": [
    {
     "name": "stdout",
     "output_type": "stream",
     "text": [
      "third    No  Yes\n",
      "Sex             \n",
      "female  170  144\n",
      "male    230  347\n",
      "z-statistic: 4.093660367729888\n",
      "p-value: 2.1230807660367627e-05\n"
     ]
    }
   ],
   "source": [
    "titanic['third'] = titanic['Pclass'].apply(lambda x: 'Yes' if x == 3 else 'No')\n",
    "\n",
    "# Create contingency table\n",
    "contingency_table = pd.crosstab(titanic['Sex'], titanic[\"third\"])\n",
    "print(contingency_table)\n",
    "\n",
    "# Performing the hypothesis test\n",
    "male_third_class_count = contingency_table.loc['male', 'Yes']\n",
    "female_third_class_count = contingency_table.loc['female', 'Yes']\n",
    "male_count = contingency_table.loc['male'].sum()\n",
    "female_count = contingency_table.loc['female'].sum()\n",
    "\n",
    "stat, p_value = proportions_ztest([male_third_class_count, female_third_class_count], [male_count, female_count], alternative='larger')\n",
    "print(\"z-statistic:\", stat)\n",
    "print(\"p-value:\", p_value)"
   ]
  },
  {
   "cell_type": "markdown",
   "id": "74e1eccd",
   "metadata": {},
   "source": [
    "From the results of the hypothesis test, if the p-value is less than 0.05, we reject the null hypothesis, which states that the proportion of males in the third class is equal to the proportion of females in the third class. The alternative hypothesis suggests that the proportion of males in the third class is greater than the proportion of females. Given the actual test results, you will be able to decide whether to reject the null hypothesis based on the calculated p-value."
   ]
  },
  {
   "cell_type": "markdown",
   "id": "6ece8390",
   "metadata": {},
   "source": [
    "- **e) Based on the p-value, can we say there is a statistically significant increase in the proportion of passengers traveling in third class in the group of male passengers?**\n",
    "\n",
    "\n",
    "Given that the p-value is less than the established significance level, we reject the null hypothesis of equal proportions. Therefore, there is enough evidence to assume that the proportion of passengers traveling in third class is higher among men."
   ]
  },
  {
   "cell_type": "markdown",
   "id": "5ac77a5e",
   "metadata": {},
   "source": [
    "- **f) It is speculated that the passenger's age was associated with the risk of not surviving. Make a graphical comparison of the distribution of passengers' ages based on whether they survived or not.**"
   ]
  },
  {
   "cell_type": "code",
   "execution_count": 7,
   "id": "ae88f8e4",
   "metadata": {},
   "outputs": [
    {
     "data": {
      "image/png": "[encoded data removed]",
      "text/plain": [
       "<Figure size 800x600 with 1 Axes>"
      ]
     },
     "metadata": {},
     "output_type": "display_data"
    }
   ],
   "source": [
    "# Boxplot\n",
    "plt.figure(figsize=(8, 6))\n",
    "sns.boxplot(data=titanic, x=\"Survived\", y=\"Age\", palette=[\"#69b3a2\", \"#404080\"])\n",
    "plt.xlabel(\"Survived\")\n",
    "plt.ylabel(\"Age\")\n",
    "plt.title(\"Boxplot of Age by Survival Status\")\n",
    "plt.show()"
   ]
  },
  {
   "cell_type": "code",
   "execution_count": 8,
   "id": "e2374699",
   "metadata": {},
   "outputs": [
    {
     "data": {
      "image/png": "[encoded data removed]",
      "text/plain": [
       "<Figure size 800x600 with 1 Axes>"
      ]
     },
     "metadata": {},
     "output_type": "display_data"
    }
   ],
   "source": [
    "# Histogram\n",
    "plt.figure(figsize=(8, 6))\n",
    "sns.histplot(data=titanic, x=\"Age\", hue=\"Survived\", palette=[\"#69b3a2\", \"#404080\"], alpha=0.6, bins=30)\n",
    "plt.xlabel(\"Age\")\n",
    "plt.ylabel(\"Count\")\n",
    "plt.title(\"Histogram of Age by Survival Status\")\n",
    "plt.show()"
   ]
  },
  {
   "cell_type": "markdown",
   "id": "1cd4225c",
   "metadata": {},
   "source": [
    "The age distribution appears approximately normal for both groups, with a notable peak in the lower age values, representing the infants onboard. Both the survived and non-survived groups span the same age range. The age distribution for the survivors seems slightly skewed to the left, indicating that younger individuals had a slightly better chance of survival. This could be because younger passengers (children and babies) might have been given priority during rescue operations."
   ]
  },
  {
   "cell_type": "markdown",
   "id": "671a051c",
   "metadata": {},
   "source": [
    "- **g) Estimate through a 95% confidence interval the difference in average age between passengers who did not survive compared to those who did (assume equal variances). Discuss the result.**"
   ]
  },
  {
   "cell_type": "code",
   "execution_count": 9,
   "id": "0d2f0c13",
   "metadata": {},
   "outputs": [
    {
     "name": "stdout",
     "output_type": "stream",
     "text": [
      "t-statistic: -2.06668694625381\n",
      "p-value: 0.03912465401348248\n"
     ]
    }
   ],
   "source": [
    "# Separate the age of survivors and non-survivors, removing NaN values\n",
    "age_survived = titanic[(titanic['Survived'] == 0) & (titanic['Age'].notnull())]['Age']\n",
    "age_not_survived = titanic[(titanic['Survived'] == 1) & (titanic['Age'].notnull())]['Age']\n",
    "\n",
    "# Conduct the t-test\n",
    "t_stat, p_value = stats.ttest_ind(age_not_survived, age_survived, equal_var=True)\n",
    "\n",
    "print(f't-statistic: {t_stat}')\n",
    "print(f'p-value: {p_value}')"
   ]
  },
  {
   "cell_type": "markdown",
   "id": "e3b80cd3",
   "metadata": {},
   "source": [
    "The t-test results indicate that there's a statistically significant difference in the mean age between passengers who survived and those who didn't. The p-value, which is less than 0.05, confirms this significant difference.\n",
    "\n",
    "The 95% confidence interval for the difference in mean ages is from 0.091 to 4.47 years. This means we are 95% confident that the true average age difference between the groups of passengers who survived and those who did not lies within this range. Specifically, passengers who did not survive had an average age that was approximately 2.28 years higher than those who survived.\n",
    "\n",
    "It is crucial to approach this result with caution. While a statistical association between age and survival on the Titanic has been identified, this does not necessarily mean that age was a direct cause of survival or non-survival. Several factors could influence survival rates, with age being just one aspect. Thus, while age might have played a role, it should not be viewed in isolation, but rather considered alongside other potential contributing factors."
   ]
  },
  {
   "cell_type": "markdown",
   "id": "5fe6542b",
   "metadata": {},
   "source": [
    "- **h)  In terms of hypothesis testing, can we reject the null hypothesis of equal means between groups?**\n",
    "\n",
    "\n",
    "Given that the p-value is less than the significance level, we reject the null hypothesis. Therefore, there are statistically significant differences in the mean age of passengers who died and the passengers who survived.\n",
    "From this moment on, it is decided to study in depth the passengers who traveled in first class. For this, we will focus only on this subpopulation."
   ]
  },
  {
   "cell_type": "markdown",
   "id": "164e3cd8",
   "metadata": {},
   "source": [
    "- **y) Among passengers who travelled in first class, contrast whether the proportion of passengers who survived was different between men and women.**"
   ]
  },
  {
   "cell_type": "code",
   "execution_count": 10,
   "id": "e01ae5f8",
   "metadata": {},
   "outputs": [
    {
     "name": "stdout",
     "output_type": "stream",
     "text": [
      "z-statistic: -9.041734213657833\n",
      "p-value: 1.5420564942821964e-19\n"
     ]
    }
   ],
   "source": [
    "# Filter data for first class passengers\n",
    "titanic_first = titanic[titanic['Pclass'] == 1]\n",
    "\n",
    "# Contingency table\n",
    "contingency_table = pd.crosstab(titanic_first['Sex'], titanic_first['Survived'])\n",
    "\n",
    "# Number of males and females who survived\n",
    "male_survived = contingency_table.loc['male', 1]\n",
    "female_survived = contingency_table.loc['female', 1]\n",
    "\n",
    "# Total number of males and females in first class\n",
    "num_males = contingency_table.loc['male'].sum()\n",
    "num_females = contingency_table.loc['female'].sum()\n",
    "\n",
    "# Proportions z-test\n",
    "stat, p_value = proportions_ztest([male_survived, female_survived], [num_males, num_females], alternative='two-sided')\n",
    "\n",
    "print(f'z-statistic: {stat}')\n",
    "print(f'p-value: {p_value}')"
   ]
  },
  {
   "cell_type": "markdown",
   "id": "9d983ff8",
   "metadata": {},
   "source": [
    "Among passengers who traveled in first class, the proportion of survivors was 96.8% for men and 36.9% for women, respectively. We reject the null hypothesis of equal proportions. Therefore, we can say there are statistically significant differences in the proportion of survivors based on the gender of the passengers."
   ]
  },
  {
   "cell_type": "markdown",
   "id": "4fd336e3",
   "metadata": {},
   "source": [
    "- **j) We want to verify if passengers with higher purchasing power were prioritized among those who traveled in first class. The fare of the ticket is used as an indicator of the passenger's purchasing power. Under the hypothesis that the average fare will be different between surviving and non-surviving passengers, perform a hypothesis test with a significance level of 0.025. What do the test results indicate?**"
   ]
  },
  {
   "cell_type": "code",
   "execution_count": 11,
   "id": "9a526d4d",
   "metadata": {},
   "outputs": [
    {
     "name": "stdout",
     "output_type": "stream",
     "text": [
      "t-statistic: 2.8459733808023455\n",
      "p-value: 0.004858011186235561\n"
     ]
    }
   ],
   "source": [
    "# Filter the fares based on survival status in the first class\n",
    "fare_survived = titanic_first[titanic_first['Survived'] == 1]['Fare']\n",
    "fare_not_survived = titanic_first[titanic_first['Survived'] == 0]['Fare']\n",
    "\n",
    "# Conduct the t-test\n",
    "t_stat, p_value = ttest_ind(fare_survived, fare_not_survived)\n",
    "\n",
    "print(f't-statistic: {t_stat}')\n",
    "print(f'p-value: {p_value}')"
   ]
  },
  {
   "cell_type": "markdown",
   "id": "38f8955e",
   "metadata": {},
   "source": [
    "The results of the hypothesis test show a rejection of the null hypothesis (p value < 0.025). There is statistical evidence that the average fare of surviving passengers is higher than the average of those passengers who did not survive."
   ]
  }
 ],
 "metadata": {
  "kernelspec": {
   "display_name": "Python 3 (ipykernel)",
   "language": "python",
   "name": "python3"
  },
  "language_info": {
   "codemirror_mode": {
    "name": "ipython",
    "version": 3
   },
   "file_extension": ".py",
   "mimetype": "text/x-python",
   "name": "python",
   "nbconvert_exporter": "python",
   "pygments_lexer": "ipython3",
   "version": "3.11.4"
  }
 },
 "nbformat": 4,
 "nbformat_minor": 5
}
