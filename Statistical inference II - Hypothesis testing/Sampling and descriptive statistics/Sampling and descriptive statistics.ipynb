{
 "cells": [
  {
   "cell_type": "markdown",
   "id": "0b1586cb",
   "metadata": {},
   "source": [
    "# Sampling and Descriptive Statistics (Basic)\n",
    "\n",
    "### Introduction\n",
    "\n",
    "\n",
    "The following dataset contains information about sleep patterns of a group of university students.\n",
    "\n",
    "The data comes from the following [Kaggle link](https://www.kaggle.com/datasets/equilibriumm/sleep-efficiency). This dataset contains information related to sleep efficiency, age, gender, as well as other variables:\n",
    "\n",
    "- ID: Unique student identifier.\n",
    "- Gender: Student's gender (Female/Male).\n",
    "- Age: Student's age.\n",
    "- Sleep duration: the student's total sleep time (in hours).\n",
    "- Sleep efficiency: measure of the proportion of time spent sleeping in bed.\n",
    "- REM sleep percentage: the percentage of total sleep time dedicated to REM sleep.\n",
    "- Awakenings: the number of times the student wakes up during the night.\n",
    "- Caffeine consumption: the amount of caffeine consumed in the 24 hours prior to going to bed (in mg).\n",
    "- Alcohol consumption: the amount of alcohol consumed in the 24 hours prior to going to bed (in ml).\n",
    "- Smoking status: whether the student smokes or not.\n",
    "\n",
    "\n",
    "In this notebook we are going to apply some basic sampling and descriptive statistics.\n"
   ]
  },
  {
   "cell_type": "code",
   "execution_count": 1,
   "id": "098241e5",
   "metadata": {},
   "outputs": [],
   "source": [
    "import pandas as pd\n",
    "import numpy as np\n",
    "import matplotlib.pyplot as plt\n",
    "import seaborn as sns"
   ]
  },
  {
   "cell_type": "markdown",
   "id": "b218b0a9",
   "metadata": {},
   "source": [
    "### 1. Basic exploration"
   ]
  },
  {
   "cell_type": "code",
   "execution_count": 2,
   "id": "52948d2b",
   "metadata": {},
   "outputs": [],
   "source": [
    "# Load dataset\n",
    "df = pd.read_csv('data/data_statistics.csv')"
   ]
  },
  {
   "cell_type": "code",
   "execution_count": 3,
   "id": "8d1d0bfb",
   "metadata": {},
   "outputs": [
    {
     "data": {
      "text/plain": [
       "(452, 10)"
      ]
     },
     "execution_count": 3,
     "metadata": {},
     "output_type": "execute_result"
    }
   ],
   "source": [
    "# Shape\n",
    "df.shape"
   ]
  },
  {
   "cell_type": "code",
   "execution_count": 4,
   "id": "ced496da",
   "metadata": {},
   "outputs": [
    {
     "data": {
      "text/html": [
       "<div>\n",
       "<style scoped>\n",
       "    .dataframe tbody tr th:only-of-type {\n",
       "        vertical-align: middle;\n",
       "    }\n",
       "\n",
       "    .dataframe tbody tr th {\n",
       "        vertical-align: top;\n",
       "    }\n",
       "\n",
       "    .dataframe thead th {\n",
       "        text-align: right;\n",
       "    }\n",
       "</style>\n",
       "<table border=\"1\" class=\"dataframe\">\n",
       "  <thead>\n",
       "    <tr style=\"text-align: right;\">\n",
       "      <th></th>\n",
       "      <th>ID</th>\n",
       "      <th>Age</th>\n",
       "      <th>Gender</th>\n",
       "      <th>Sleep.duration</th>\n",
       "      <th>Sleep.efficiency</th>\n",
       "      <th>REM.sleep.percentage</th>\n",
       "      <th>Awakenings</th>\n",
       "      <th>Caffeine.consumption</th>\n",
       "      <th>Alcohol.consumption</th>\n",
       "      <th>Smoking.status</th>\n",
       "    </tr>\n",
       "  </thead>\n",
       "  <tbody>\n",
       "    <tr>\n",
       "      <th>0</th>\n",
       "      <td>1</td>\n",
       "      <td>65</td>\n",
       "      <td>Female</td>\n",
       "      <td>6.0</td>\n",
       "      <td>0.88</td>\n",
       "      <td>18</td>\n",
       "      <td>0.0</td>\n",
       "      <td>0.0</td>\n",
       "      <td>0.0</td>\n",
       "      <td>Yes</td>\n",
       "    </tr>\n",
       "    <tr>\n",
       "      <th>1</th>\n",
       "      <td>2</td>\n",
       "      <td>69</td>\n",
       "      <td>Male</td>\n",
       "      <td>7.0</td>\n",
       "      <td>0.66</td>\n",
       "      <td>19</td>\n",
       "      <td>3.0</td>\n",
       "      <td>0.0</td>\n",
       "      <td>3.0</td>\n",
       "      <td>Yes</td>\n",
       "    </tr>\n",
       "    <tr>\n",
       "      <th>2</th>\n",
       "      <td>3</td>\n",
       "      <td>40</td>\n",
       "      <td>Female</td>\n",
       "      <td>8.0</td>\n",
       "      <td>0.89</td>\n",
       "      <td>20</td>\n",
       "      <td>1.0</td>\n",
       "      <td>0.0</td>\n",
       "      <td>0.0</td>\n",
       "      <td>No</td>\n",
       "    </tr>\n",
       "    <tr>\n",
       "      <th>3</th>\n",
       "      <td>4</td>\n",
       "      <td>40</td>\n",
       "      <td>Female</td>\n",
       "      <td>6.0</td>\n",
       "      <td>0.51</td>\n",
       "      <td>23</td>\n",
       "      <td>3.0</td>\n",
       "      <td>50.0</td>\n",
       "      <td>5.0</td>\n",
       "      <td>Yes</td>\n",
       "    </tr>\n",
       "    <tr>\n",
       "      <th>4</th>\n",
       "      <td>5</td>\n",
       "      <td>57</td>\n",
       "      <td>Male</td>\n",
       "      <td>8.0</td>\n",
       "      <td>0.76</td>\n",
       "      <td>27</td>\n",
       "      <td>3.0</td>\n",
       "      <td>0.0</td>\n",
       "      <td>3.0</td>\n",
       "      <td>No</td>\n",
       "    </tr>\n",
       "  </tbody>\n",
       "</table>\n",
       "</div>"
      ],
      "text/plain": [
       "   ID  Age  Gender  Sleep.duration  Sleep.efficiency  REM.sleep.percentage  \\\n",
       "0   1   65  Female             6.0              0.88                    18   \n",
       "1   2   69    Male             7.0              0.66                    19   \n",
       "2   3   40  Female             8.0              0.89                    20   \n",
       "3   4   40  Female             6.0              0.51                    23   \n",
       "4   5   57    Male             8.0              0.76                    27   \n",
       "\n",
       "   Awakenings  Caffeine.consumption  Alcohol.consumption Smoking.status  \n",
       "0         0.0                   0.0                  0.0            Yes  \n",
       "1         3.0                   0.0                  3.0            Yes  \n",
       "2         1.0                   0.0                  0.0             No  \n",
       "3         3.0                  50.0                  5.0            Yes  \n",
       "4         3.0                   0.0                  3.0             No  "
      ]
     },
     "execution_count": 4,
     "metadata": {},
     "output_type": "execute_result"
    }
   ],
   "source": [
    "# First 5 rows\n",
    "df.head()"
   ]
  },
  {
   "cell_type": "code",
   "execution_count": 5,
   "id": "91af0a19",
   "metadata": {},
   "outputs": [
    {
     "data": {
      "text/html": [
       "<div>\n",
       "<style scoped>\n",
       "    .dataframe tbody tr th:only-of-type {\n",
       "        vertical-align: middle;\n",
       "    }\n",
       "\n",
       "    .dataframe tbody tr th {\n",
       "        vertical-align: top;\n",
       "    }\n",
       "\n",
       "    .dataframe thead th {\n",
       "        text-align: right;\n",
       "    }\n",
       "</style>\n",
       "<table border=\"1\" class=\"dataframe\">\n",
       "  <thead>\n",
       "    <tr style=\"text-align: right;\">\n",
       "      <th></th>\n",
       "      <th>ID</th>\n",
       "      <th>Age</th>\n",
       "      <th>Gender</th>\n",
       "      <th>Sleep.duration</th>\n",
       "      <th>Sleep.efficiency</th>\n",
       "      <th>REM.sleep.percentage</th>\n",
       "      <th>Awakenings</th>\n",
       "      <th>Caffeine.consumption</th>\n",
       "      <th>Alcohol.consumption</th>\n",
       "      <th>Smoking.status</th>\n",
       "    </tr>\n",
       "  </thead>\n",
       "  <tbody>\n",
       "    <tr>\n",
       "      <th>447</th>\n",
       "      <td>448</td>\n",
       "      <td>27</td>\n",
       "      <td>Female</td>\n",
       "      <td>7.5</td>\n",
       "      <td>0.91</td>\n",
       "      <td>22</td>\n",
       "      <td>0.0</td>\n",
       "      <td>0.0</td>\n",
       "      <td>0.0</td>\n",
       "      <td>No</td>\n",
       "    </tr>\n",
       "    <tr>\n",
       "      <th>448</th>\n",
       "      <td>449</td>\n",
       "      <td>52</td>\n",
       "      <td>Male</td>\n",
       "      <td>6.0</td>\n",
       "      <td>0.74</td>\n",
       "      <td>28</td>\n",
       "      <td>4.0</td>\n",
       "      <td>25.0</td>\n",
       "      <td>0.0</td>\n",
       "      <td>No</td>\n",
       "    </tr>\n",
       "    <tr>\n",
       "      <th>449</th>\n",
       "      <td>450</td>\n",
       "      <td>40</td>\n",
       "      <td>Female</td>\n",
       "      <td>8.5</td>\n",
       "      <td>0.55</td>\n",
       "      <td>20</td>\n",
       "      <td>1.0</td>\n",
       "      <td>NaN</td>\n",
       "      <td>3.0</td>\n",
       "      <td>Yes</td>\n",
       "    </tr>\n",
       "    <tr>\n",
       "      <th>450</th>\n",
       "      <td>451</td>\n",
       "      <td>45</td>\n",
       "      <td>Male</td>\n",
       "      <td>7.0</td>\n",
       "      <td>0.76</td>\n",
       "      <td>18</td>\n",
       "      <td>3.0</td>\n",
       "      <td>0.0</td>\n",
       "      <td>0.0</td>\n",
       "      <td>No</td>\n",
       "    </tr>\n",
       "    <tr>\n",
       "      <th>451</th>\n",
       "      <td>452</td>\n",
       "      <td>18</td>\n",
       "      <td>Male</td>\n",
       "      <td>7.5</td>\n",
       "      <td>0.63</td>\n",
       "      <td>22</td>\n",
       "      <td>1.0</td>\n",
       "      <td>50.0</td>\n",
       "      <td>0.0</td>\n",
       "      <td>No</td>\n",
       "    </tr>\n",
       "  </tbody>\n",
       "</table>\n",
       "</div>"
      ],
      "text/plain": [
       "      ID  Age  Gender  Sleep.duration  Sleep.efficiency  REM.sleep.percentage  \\\n",
       "447  448   27  Female             7.5              0.91                    22   \n",
       "448  449   52    Male             6.0              0.74                    28   \n",
       "449  450   40  Female             8.5              0.55                    20   \n",
       "450  451   45    Male             7.0              0.76                    18   \n",
       "451  452   18    Male             7.5              0.63                    22   \n",
       "\n",
       "     Awakenings  Caffeine.consumption  Alcohol.consumption Smoking.status  \n",
       "447         0.0                   0.0                  0.0             No  \n",
       "448         4.0                  25.0                  0.0             No  \n",
       "449         1.0                   NaN                  3.0            Yes  \n",
       "450         3.0                   0.0                  0.0             No  \n",
       "451         1.0                  50.0                  0.0             No  "
      ]
     },
     "execution_count": 5,
     "metadata": {},
     "output_type": "execute_result"
    }
   ],
   "source": [
    "# Last 5 rows\n",
    "df.tail()"
   ]
  },
  {
   "cell_type": "code",
   "execution_count": 6,
   "id": "e379c500",
   "metadata": {},
   "outputs": [
    {
     "name": "stdout",
     "output_type": "stream",
     "text": [
      "<class 'pandas.core.frame.DataFrame'>\n",
      "RangeIndex: 452 entries, 0 to 451\n",
      "Data columns (total 10 columns):\n",
      " #   Column                Non-Null Count  Dtype  \n",
      "---  ------                --------------  -----  \n",
      " 0   ID                    452 non-null    int64  \n",
      " 1   Age                   452 non-null    int64  \n",
      " 2   Gender                452 non-null    object \n",
      " 3   Sleep.duration        452 non-null    float64\n",
      " 4   Sleep.efficiency      452 non-null    float64\n",
      " 5   REM.sleep.percentage  452 non-null    int64  \n",
      " 6   Awakenings            432 non-null    float64\n",
      " 7   Caffeine.consumption  427 non-null    float64\n",
      " 8   Alcohol.consumption   438 non-null    float64\n",
      " 9   Smoking.status        452 non-null    object \n",
      "dtypes: float64(5), int64(3), object(2)\n",
      "memory usage: 35.4+ KB\n"
     ]
    }
   ],
   "source": [
    "# Column types\n",
    "df.info()"
   ]
  },
  {
   "cell_type": "code",
   "execution_count": 7,
   "id": "cd64b712",
   "metadata": {},
   "outputs": [
    {
     "data": {
      "text/html": [
       "<div>\n",
       "<style scoped>\n",
       "    .dataframe tbody tr th:only-of-type {\n",
       "        vertical-align: middle;\n",
       "    }\n",
       "\n",
       "    .dataframe tbody tr th {\n",
       "        vertical-align: top;\n",
       "    }\n",
       "\n",
       "    .dataframe thead th {\n",
       "        text-align: right;\n",
       "    }\n",
       "</style>\n",
       "<table border=\"1\" class=\"dataframe\">\n",
       "  <thead>\n",
       "    <tr style=\"text-align: right;\">\n",
       "      <th></th>\n",
       "      <th>ID</th>\n",
       "      <th>Age</th>\n",
       "      <th>Sleep.duration</th>\n",
       "      <th>Sleep.efficiency</th>\n",
       "      <th>REM.sleep.percentage</th>\n",
       "      <th>Awakenings</th>\n",
       "      <th>Caffeine.consumption</th>\n",
       "      <th>Alcohol.consumption</th>\n",
       "    </tr>\n",
       "  </thead>\n",
       "  <tbody>\n",
       "    <tr>\n",
       "      <th>count</th>\n",
       "      <td>452.000000</td>\n",
       "      <td>452.000000</td>\n",
       "      <td>452.000000</td>\n",
       "      <td>452.000000</td>\n",
       "      <td>452.000000</td>\n",
       "      <td>432.000000</td>\n",
       "      <td>427.000000</td>\n",
       "      <td>438.000000</td>\n",
       "    </tr>\n",
       "    <tr>\n",
       "      <th>mean</th>\n",
       "      <td>226.500000</td>\n",
       "      <td>40.285398</td>\n",
       "      <td>7.465708</td>\n",
       "      <td>0.788916</td>\n",
       "      <td>22.615044</td>\n",
       "      <td>1.641204</td>\n",
       "      <td>23.653396</td>\n",
       "      <td>1.173516</td>\n",
       "    </tr>\n",
       "    <tr>\n",
       "      <th>std</th>\n",
       "      <td>130.625419</td>\n",
       "      <td>13.172250</td>\n",
       "      <td>0.866625</td>\n",
       "      <td>0.135237</td>\n",
       "      <td>3.525963</td>\n",
       "      <td>1.356762</td>\n",
       "      <td>30.202785</td>\n",
       "      <td>1.621377</td>\n",
       "    </tr>\n",
       "    <tr>\n",
       "      <th>min</th>\n",
       "      <td>1.000000</td>\n",
       "      <td>9.000000</td>\n",
       "      <td>5.000000</td>\n",
       "      <td>0.500000</td>\n",
       "      <td>15.000000</td>\n",
       "      <td>0.000000</td>\n",
       "      <td>0.000000</td>\n",
       "      <td>0.000000</td>\n",
       "    </tr>\n",
       "    <tr>\n",
       "      <th>25%</th>\n",
       "      <td>113.750000</td>\n",
       "      <td>29.000000</td>\n",
       "      <td>7.000000</td>\n",
       "      <td>0.697500</td>\n",
       "      <td>20.000000</td>\n",
       "      <td>1.000000</td>\n",
       "      <td>0.000000</td>\n",
       "      <td>0.000000</td>\n",
       "    </tr>\n",
       "    <tr>\n",
       "      <th>50%</th>\n",
       "      <td>226.500000</td>\n",
       "      <td>40.000000</td>\n",
       "      <td>7.500000</td>\n",
       "      <td>0.820000</td>\n",
       "      <td>22.000000</td>\n",
       "      <td>1.000000</td>\n",
       "      <td>25.000000</td>\n",
       "      <td>0.000000</td>\n",
       "    </tr>\n",
       "    <tr>\n",
       "      <th>75%</th>\n",
       "      <td>339.250000</td>\n",
       "      <td>52.000000</td>\n",
       "      <td>8.000000</td>\n",
       "      <td>0.900000</td>\n",
       "      <td>25.000000</td>\n",
       "      <td>3.000000</td>\n",
       "      <td>50.000000</td>\n",
       "      <td>2.000000</td>\n",
       "    </tr>\n",
       "    <tr>\n",
       "      <th>max</th>\n",
       "      <td>452.000000</td>\n",
       "      <td>69.000000</td>\n",
       "      <td>10.000000</td>\n",
       "      <td>0.990000</td>\n",
       "      <td>30.000000</td>\n",
       "      <td>4.000000</td>\n",
       "      <td>200.000000</td>\n",
       "      <td>5.000000</td>\n",
       "    </tr>\n",
       "  </tbody>\n",
       "</table>\n",
       "</div>"
      ],
      "text/plain": [
       "               ID         Age  Sleep.duration  Sleep.efficiency  \\\n",
       "count  452.000000  452.000000      452.000000        452.000000   \n",
       "mean   226.500000   40.285398        7.465708          0.788916   \n",
       "std    130.625419   13.172250        0.866625          0.135237   \n",
       "min      1.000000    9.000000        5.000000          0.500000   \n",
       "25%    113.750000   29.000000        7.000000          0.697500   \n",
       "50%    226.500000   40.000000        7.500000          0.820000   \n",
       "75%    339.250000   52.000000        8.000000          0.900000   \n",
       "max    452.000000   69.000000       10.000000          0.990000   \n",
       "\n",
       "       REM.sleep.percentage  Awakenings  Caffeine.consumption  \\\n",
       "count            452.000000  432.000000            427.000000   \n",
       "mean              22.615044    1.641204             23.653396   \n",
       "std                3.525963    1.356762             30.202785   \n",
       "min               15.000000    0.000000              0.000000   \n",
       "25%               20.000000    1.000000              0.000000   \n",
       "50%               22.000000    1.000000             25.000000   \n",
       "75%               25.000000    3.000000             50.000000   \n",
       "max               30.000000    4.000000            200.000000   \n",
       "\n",
       "       Alcohol.consumption  \n",
       "count           438.000000  \n",
       "mean              1.173516  \n",
       "std               1.621377  \n",
       "min               0.000000  \n",
       "25%               0.000000  \n",
       "50%               0.000000  \n",
       "75%               2.000000  \n",
       "max               5.000000  "
      ]
     },
     "execution_count": 7,
     "metadata": {},
     "output_type": "execute_result"
    }
   ],
   "source": [
    "# Basic statistics\n",
    "df.describe()"
   ]
  },
  {
   "cell_type": "code",
   "execution_count": 8,
   "id": "7970a686",
   "metadata": {},
   "outputs": [
    {
     "data": {
      "text/plain": [
       "ID                       0\n",
       "Age                      0\n",
       "Gender                   0\n",
       "Sleep.duration           0\n",
       "Sleep.efficiency         0\n",
       "REM.sleep.percentage     0\n",
       "Awakenings              20\n",
       "Caffeine.consumption    25\n",
       "Alcohol.consumption     14\n",
       "Smoking.status           0\n",
       "dtype: int64"
      ]
     },
     "execution_count": 8,
     "metadata": {},
     "output_type": "execute_result"
    }
   ],
   "source": [
    "# Checking missing values\n",
    "df.isnull().sum()"
   ]
  },
  {
   "cell_type": "code",
   "execution_count": 9,
   "id": "640c75cd",
   "metadata": {},
   "outputs": [
    {
     "data": {
      "text/plain": [
       "count    452.000000\n",
       "mean       0.788916\n",
       "std        0.135237\n",
       "min        0.500000\n",
       "25%        0.697500\n",
       "50%        0.820000\n",
       "75%        0.900000\n",
       "max        0.990000\n",
       "Name: Sleep.efficiency, dtype: float64"
      ]
     },
     "execution_count": 9,
     "metadata": {},
     "output_type": "execute_result"
    }
   ],
   "source": [
    "# Summary of 'Sleep efficiency' column\n",
    "df['Sleep.efficiency'].describe()"
   ]
  },
  {
   "cell_type": "code",
   "execution_count": 10,
   "id": "ecb6f45f",
   "metadata": {},
   "outputs": [
    {
     "name": "stdout",
     "output_type": "stream",
     "text": [
      "Summary for non-smokers:\n",
      " count    298.000000\n",
      "mean       0.817081\n",
      "std        0.109384\n",
      "min        0.520000\n",
      "25%        0.730000\n",
      "50%        0.840000\n",
      "75%        0.910000\n",
      "max        0.990000\n",
      "Name: Sleep.efficiency, dtype: float64\n",
      "\n",
      "Summary for smokers:\n",
      " count    154.000000\n",
      "mean       0.734416\n",
      "std        0.161711\n",
      "min        0.500000\n",
      "25%        0.550000\n",
      "50%        0.780000\n",
      "75%        0.880000\n",
      "max        0.970000\n",
      "Name: Sleep.efficiency, dtype: float64\n"
     ]
    },
    {
     "data": {
      "image/png": "[encoded data removed]",
      "text/plain": [
       "<Figure size 720x432 with 1 Axes>"
      ]
     },
     "metadata": {
      "needs_background": "light"
     },
     "output_type": "display_data"
    }
   ],
   "source": [
    "# Numerical summaries of the \"Sleep efficiency\" variable\n",
    "summary_non_smokers = df[df['Smoking.status'] == 'No']['Sleep.efficiency'].describe()\n",
    "summary_smokers = df[df['Smoking.status'] == 'Yes']['Sleep.efficiency'].describe()\n",
    "\n",
    "print(\"Summary for non-smokers:\\n\", summary_non_smokers)\n",
    "print(\"\\nSummary for smokers:\\n\", summary_smokers)\n",
    "\n",
    "# Box plot\n",
    "plt.figure(figsize=(10,6))\n",
    "sns.boxplot(x=\"Smoking.status\", y=\"Sleep.efficiency\", data=df)\n",
    "plt.title('Box plot of sleep efficiency depending on smoking status')\n",
    "\n",
    "# Saving the figure\n",
    "plt.savefig('figures/sleep_efficiency_boxplot.png')\n",
    "\n",
    "\n",
    "plt.show()"
   ]
  },
  {
   "cell_type": "markdown",
   "id": "b9f15730",
   "metadata": {},
   "source": [
    "**Insights**\n",
    "\n",
    "The median sleep efficiency is higher for \"non-smokers\" (0.84) than for \"smokers\" (0.78). The mean is also higher in the \"non-smokers\" group (0.81) compared to \"smokers\" (0.73). At first glance, no outliers are seen, and these appear to be asymmetric distributions (they do not seem to be normal distributions). Initially, then, differences are observed between smokers / non-smokers with respect to sleep efficiency."
   ]
  },
  {
   "cell_type": "markdown",
   "id": "a489319f",
   "metadata": {},
   "source": [
    "### 2. Basic sampling"
   ]
  },
  {
   "cell_type": "code",
   "execution_count": 11,
   "id": "a246f022",
   "metadata": {},
   "outputs": [
    {
     "data": {
      "text/plain": [
       "Male      228\n",
       "Female    224\n",
       "Name: Gender, dtype: int64"
      ]
     },
     "execution_count": 11,
     "metadata": {},
     "output_type": "execute_result"
    }
   ],
   "source": [
    "# Summary of 'Gender' values\n",
    "df['Gender'].value_counts()"
   ]
  },
  {
   "cell_type": "code",
   "execution_count": 12,
   "id": "b845d7c8",
   "metadata": {},
   "outputs": [
    {
     "data": {
      "image/png": "[encoded data removed]",
      "text/plain": [
       "<Figure size 432x288 with 1 Axes>"
      ]
     },
     "metadata": {
      "needs_background": "light"
     },
     "output_type": "display_data"
    }
   ],
   "source": [
    "# Setting color and labels\n",
    "counts = df['Gender'].value_counts()\n",
    "colors = ['cadetblue'] \n",
    "labels = ['Women', 'Men'] \n",
    "\n",
    "# Creating the bar plot\n",
    "plt.bar(labels, counts, color=colors)\n",
    "plt.ylabel('Count')\n",
    "\n",
    "# Saving the figure\n",
    "plt.savefig('figures/gender_value_counts.png')\n",
    "\n",
    "\n",
    "plt.show()"
   ]
  },
  {
   "cell_type": "code",
   "execution_count": 13,
   "id": "50388321",
   "metadata": {},
   "outputs": [
    {
     "data": {
      "image/png": "[encoded data removed]",
      "text/plain": [
       "<Figure size 432x288 with 1 Axes>"
      ]
     },
     "metadata": {},
     "output_type": "display_data"
    }
   ],
   "source": [
    "# Setting color\n",
    "colors = ['cadetblue', 'lightblue']\n",
    "\n",
    "# Creating the pie chart\n",
    "plt.pie(counts, colors=colors, labels=counts.index, autopct='%1.1f%%')\n",
    "\n",
    "# Saving the figure\n",
    "plt.savefig('figures/pie_gender.png')\n",
    "\n",
    "\n",
    "plt.show()"
   ]
  },
  {
   "cell_type": "markdown",
   "id": "bbe2ea5c",
   "metadata": {},
   "source": [
    "As we can see in the frequency tables and in the graphics, there are 224 people who are \"Female\", that is, 49.56% of the data. There are 228 people who are \"Male\", which is 50.44% of the data.\n",
    "\n",
    "**If a university has 1000 classes and in each class, five students are randomly selected to analyze their sleep pattern. What sampling method do we use in this case and why?**\n",
    "\n",
    "In this case, it would be stratified sampling, since the individuals in the population are divided into disjoint groups (strata); which would be each class. The sample is obtained by selecting a simple random sample within each stratum, in this case of 5 people per class."
   ]
  },
  {
   "cell_type": "markdown",
   "id": "69c5a122",
   "metadata": {},
   "source": [
    "### 3. Basic use case\n",
    "\n",
    "The new intern at the company has been tasked with reviewing the entire dataset, row by row, data by data. As this is a boring task, he has decided to try his luck and only review the data for rows 100 to 280, and then claim that he has reviewed them all. Answer the following questions related to these data:\n",
    "\n",
    "a) Make a histogram of the Sleep efficiency variable using the data between rows 100 and 280."
   ]
  },
  {
   "cell_type": "code",
   "execution_count": 14,
   "id": "51989278",
   "metadata": {},
   "outputs": [
    {
     "data": {
      "image/png": "[encoded data removed]",
      "text/plain": [
       "<Figure size 432x288 with 1 Axes>"
      ]
     },
     "metadata": {
      "needs_background": "light"
     },
     "output_type": "display_data"
    }
   ],
   "source": [
    "subset = df.iloc[99:280]\n",
    "plt.hist(subset['Sleep.efficiency'], color='cadetblue')\n",
    "plt.title('Sleep Efficiency')\n",
    "plt.savefig('figures/sleep_efficiency_hist.png')\n",
    "plt.show()"
   ]
  },
  {
   "cell_type": "markdown",
   "id": "f518c1c7",
   "metadata": {},
   "source": [
    "**Insights**\n",
    "\n",
    "We see that it is a variable with a distribution that is skewed to the left, and without outliers."
   ]
  },
  {
   "cell_type": "markdown",
   "id": "5e660957",
   "metadata": {},
   "source": [
    "**When should one choose a bar chart over a histogram?**\n",
    "\n",
    "Bar charts are for multiple (categorical) variables, while histograms are for a single quantitative variable.\n",
    "\n",
    "\n",
    "**With these same data, who is the person with the highest sleep efficiency?**"
   ]
  },
  {
   "cell_type": "code",
   "execution_count": 15,
   "id": "7cf2c6ce",
   "metadata": {},
   "outputs": [
    {
     "data": {
      "text/plain": [
       "0.98"
      ]
     },
     "execution_count": 15,
     "metadata": {},
     "output_type": "execute_result"
    }
   ],
   "source": [
    "# Let´s show in the output only the person's ID, age and gender.\n",
    "max_efficiency = subset['Sleep.efficiency'].max()\n",
    "max_efficiency"
   ]
  },
  {
   "cell_type": "code",
   "execution_count": 16,
   "id": "67112917",
   "metadata": {},
   "outputs": [
    {
     "data": {
      "text/html": [
       "<div>\n",
       "<style scoped>\n",
       "    .dataframe tbody tr th:only-of-type {\n",
       "        vertical-align: middle;\n",
       "    }\n",
       "\n",
       "    .dataframe tbody tr th {\n",
       "        vertical-align: top;\n",
       "    }\n",
       "\n",
       "    .dataframe thead th {\n",
       "        text-align: right;\n",
       "    }\n",
       "</style>\n",
       "<table border=\"1\" class=\"dataframe\">\n",
       "  <thead>\n",
       "    <tr style=\"text-align: right;\">\n",
       "      <th></th>\n",
       "      <th>ID</th>\n",
       "      <th>Age</th>\n",
       "      <th>Gender</th>\n",
       "    </tr>\n",
       "  </thead>\n",
       "  <tbody>\n",
       "    <tr>\n",
       "      <th>206</th>\n",
       "      <td>207</td>\n",
       "      <td>31</td>\n",
       "      <td>Female</td>\n",
       "    </tr>\n",
       "  </tbody>\n",
       "</table>\n",
       "</div>"
      ],
      "text/plain": [
       "      ID  Age  Gender\n",
       "206  207   31  Female"
      ]
     },
     "execution_count": 16,
     "metadata": {},
     "output_type": "execute_result"
    }
   ],
   "source": [
    "max_efficiency_row = subset.loc[subset['Sleep.efficiency'] == max_efficiency, ['ID', 'Age', 'Gender']]\n",
    "max_efficiency_row"
   ]
  },
  {
   "cell_type": "markdown",
   "id": "e2537e79",
   "metadata": {},
   "source": [
    "**Insights**\n",
    "\n",
    "The maximum value is 0.98, and corresponds to ID 207, Female gender and age of 31."
   ]
  }
 ],
 "metadata": {
  "kernelspec": {
   "display_name": "Python 3 (ipykernel)",
   "language": "python",
   "name": "python3"
  },
  "language_info": {
   "codemirror_mode": {
    "name": "ipython",
    "version": 3
   },
   "file_extension": ".py",
   "mimetype": "text/x-python",
   "name": "python",
   "nbconvert_exporter": "python",
   "pygments_lexer": "ipython3",
   "version": "3.9.7"
  }
 },
 "nbformat": 4,
 "nbformat_minor": 5
}
