{
 "cells": [
  {
   "cell_type": "markdown",
   "id": "d454f970",
   "metadata": {},
   "source": [
    "# Probability - Basic Concepts and Random Variables\n",
    "\n",
    "\n",
    "\n",
    "\n",
    "**The data from the LasVegas.csv file, sourced from the UCI repository (https://archive-beta.ics.uci.edu/dataset/397/las+vegas+strip) contains information about reviews written on TripAdvisor by customers of 21 hotels in Las Vegas. We will use this dataset to perform basic exercises on probabilities and random variables. Our dataset is clean and ready for analysis; it contains no missing values and the data is in the necessary format for analysis.**"
   ]
  },
  {
   "cell_type": "code",
   "execution_count": 1,
   "id": "91bf5080",
   "metadata": {},
   "outputs": [],
   "source": [
    "# Libraries\n",
    "import pandas as pd\n",
    "import numpy as np"
   ]
  },
  {
   "cell_type": "code",
   "execution_count": 2,
   "id": "fd280487",
   "metadata": {},
   "outputs": [],
   "source": [
    "df = pd.read_csv(\"data/LasVegas.csv\", delimiter = \";\")"
   ]
  },
  {
   "cell_type": "code",
   "execution_count": 3,
   "id": "30805c6d",
   "metadata": {},
   "outputs": [
    {
     "data": {
      "text/html": [
       "<div>\n",
       "<style scoped>\n",
       "    .dataframe tbody tr th:only-of-type {\n",
       "        vertical-align: middle;\n",
       "    }\n",
       "\n",
       "    .dataframe tbody tr th {\n",
       "        vertical-align: top;\n",
       "    }\n",
       "\n",
       "    .dataframe thead th {\n",
       "        text-align: right;\n",
       "    }\n",
       "</style>\n",
       "<table border=\"1\" class=\"dataframe\">\n",
       "  <thead>\n",
       "    <tr style=\"text-align: right;\">\n",
       "      <th></th>\n",
       "      <th>User country</th>\n",
       "      <th>Nr. reviews</th>\n",
       "      <th>Nr. hotel reviews</th>\n",
       "      <th>Helpful votes</th>\n",
       "      <th>Score</th>\n",
       "      <th>Period of stay</th>\n",
       "      <th>Traveler type</th>\n",
       "      <th>Pool</th>\n",
       "      <th>Gym</th>\n",
       "      <th>Tennis court</th>\n",
       "      <th>Spa</th>\n",
       "      <th>Casino</th>\n",
       "      <th>Free internet</th>\n",
       "      <th>Hotel name</th>\n",
       "      <th>Hotel stars</th>\n",
       "      <th>Nr. rooms</th>\n",
       "      <th>User continent</th>\n",
       "      <th>Member years</th>\n",
       "      <th>Review month</th>\n",
       "      <th>Review weekday</th>\n",
       "    </tr>\n",
       "  </thead>\n",
       "  <tbody>\n",
       "    <tr>\n",
       "      <th>0</th>\n",
       "      <td>USA</td>\n",
       "      <td>11</td>\n",
       "      <td>4</td>\n",
       "      <td>13</td>\n",
       "      <td>5</td>\n",
       "      <td>Dec-Feb</td>\n",
       "      <td>Friends</td>\n",
       "      <td>NO</td>\n",
       "      <td>YES</td>\n",
       "      <td>NO</td>\n",
       "      <td>NO</td>\n",
       "      <td>YES</td>\n",
       "      <td>YES</td>\n",
       "      <td>Circus Circus Hotel &amp; Casino Las Vegas</td>\n",
       "      <td>3</td>\n",
       "      <td>3773</td>\n",
       "      <td>North America</td>\n",
       "      <td>9</td>\n",
       "      <td>January</td>\n",
       "      <td>Thursday</td>\n",
       "    </tr>\n",
       "    <tr>\n",
       "      <th>1</th>\n",
       "      <td>USA</td>\n",
       "      <td>119</td>\n",
       "      <td>21</td>\n",
       "      <td>75</td>\n",
       "      <td>3</td>\n",
       "      <td>Dec-Feb</td>\n",
       "      <td>Business</td>\n",
       "      <td>NO</td>\n",
       "      <td>YES</td>\n",
       "      <td>NO</td>\n",
       "      <td>NO</td>\n",
       "      <td>YES</td>\n",
       "      <td>YES</td>\n",
       "      <td>Circus Circus Hotel &amp; Casino Las Vegas</td>\n",
       "      <td>3</td>\n",
       "      <td>3773</td>\n",
       "      <td>North America</td>\n",
       "      <td>3</td>\n",
       "      <td>January</td>\n",
       "      <td>Friday</td>\n",
       "    </tr>\n",
       "    <tr>\n",
       "      <th>2</th>\n",
       "      <td>USA</td>\n",
       "      <td>36</td>\n",
       "      <td>9</td>\n",
       "      <td>25</td>\n",
       "      <td>5</td>\n",
       "      <td>Mar-May</td>\n",
       "      <td>Families</td>\n",
       "      <td>NO</td>\n",
       "      <td>YES</td>\n",
       "      <td>NO</td>\n",
       "      <td>NO</td>\n",
       "      <td>YES</td>\n",
       "      <td>YES</td>\n",
       "      <td>Circus Circus Hotel &amp; Casino Las Vegas</td>\n",
       "      <td>3</td>\n",
       "      <td>3773</td>\n",
       "      <td>North America</td>\n",
       "      <td>2</td>\n",
       "      <td>February</td>\n",
       "      <td>Saturday</td>\n",
       "    </tr>\n",
       "    <tr>\n",
       "      <th>3</th>\n",
       "      <td>UK</td>\n",
       "      <td>14</td>\n",
       "      <td>7</td>\n",
       "      <td>14</td>\n",
       "      <td>4</td>\n",
       "      <td>Mar-May</td>\n",
       "      <td>Friends</td>\n",
       "      <td>NO</td>\n",
       "      <td>YES</td>\n",
       "      <td>NO</td>\n",
       "      <td>NO</td>\n",
       "      <td>YES</td>\n",
       "      <td>YES</td>\n",
       "      <td>Circus Circus Hotel &amp; Casino Las Vegas</td>\n",
       "      <td>3</td>\n",
       "      <td>3773</td>\n",
       "      <td>Europe</td>\n",
       "      <td>6</td>\n",
       "      <td>February</td>\n",
       "      <td>Friday</td>\n",
       "    </tr>\n",
       "    <tr>\n",
       "      <th>4</th>\n",
       "      <td>Canada</td>\n",
       "      <td>5</td>\n",
       "      <td>5</td>\n",
       "      <td>2</td>\n",
       "      <td>4</td>\n",
       "      <td>Mar-May</td>\n",
       "      <td>Solo</td>\n",
       "      <td>NO</td>\n",
       "      <td>YES</td>\n",
       "      <td>NO</td>\n",
       "      <td>NO</td>\n",
       "      <td>YES</td>\n",
       "      <td>YES</td>\n",
       "      <td>Circus Circus Hotel &amp; Casino Las Vegas</td>\n",
       "      <td>3</td>\n",
       "      <td>3773</td>\n",
       "      <td>North America</td>\n",
       "      <td>7</td>\n",
       "      <td>March</td>\n",
       "      <td>Tuesday</td>\n",
       "    </tr>\n",
       "  </tbody>\n",
       "</table>\n",
       "</div>"
      ],
      "text/plain": [
       "  User country  Nr. reviews  Nr. hotel reviews  Helpful votes  Score  \\\n",
       "0          USA           11                  4             13      5   \n",
       "1          USA          119                 21             75      3   \n",
       "2          USA           36                  9             25      5   \n",
       "3           UK           14                  7             14      4   \n",
       "4       Canada            5                  5              2      4   \n",
       "\n",
       "  Period of stay Traveler type Pool  Gym Tennis court Spa Casino  \\\n",
       "0        Dec-Feb       Friends   NO  YES           NO  NO    YES   \n",
       "1        Dec-Feb      Business   NO  YES           NO  NO    YES   \n",
       "2        Mar-May      Families   NO  YES           NO  NO    YES   \n",
       "3        Mar-May       Friends   NO  YES           NO  NO    YES   \n",
       "4        Mar-May          Solo   NO  YES           NO  NO    YES   \n",
       "\n",
       "  Free internet                              Hotel name Hotel stars  \\\n",
       "0           YES  Circus Circus Hotel & Casino Las Vegas           3   \n",
       "1           YES  Circus Circus Hotel & Casino Las Vegas           3   \n",
       "2           YES  Circus Circus Hotel & Casino Las Vegas           3   \n",
       "3           YES  Circus Circus Hotel & Casino Las Vegas           3   \n",
       "4           YES  Circus Circus Hotel & Casino Las Vegas           3   \n",
       "\n",
       "   Nr. rooms User continent  Member years Review month Review weekday  \n",
       "0       3773  North America             9      January       Thursday  \n",
       "1       3773  North America             3      January         Friday  \n",
       "2       3773  North America             2     February       Saturday  \n",
       "3       3773         Europe             6     February         Friday  \n",
       "4       3773  North America             7        March        Tuesday  "
      ]
     },
     "execution_count": 3,
     "metadata": {},
     "output_type": "execute_result"
    }
   ],
   "source": [
    "# First rows\n",
    "df.head()"
   ]
  },
  {
   "cell_type": "code",
   "execution_count": 4,
   "id": "98de1c70",
   "metadata": {},
   "outputs": [
    {
     "data": {
      "text/plain": [
       "Index(['User country', 'Nr. reviews', 'Nr. hotel reviews', 'Helpful votes',\n",
       "       'Score', 'Period of stay', 'Traveler type', 'Pool', 'Gym',\n",
       "       'Tennis court', 'Spa', 'Casino', 'Free internet', 'Hotel name',\n",
       "       'Hotel stars', 'Nr. rooms', 'User continent', 'Member years',\n",
       "       'Review month', 'Review weekday'],\n",
       "      dtype='object')"
      ]
     },
     "execution_count": 4,
     "metadata": {},
     "output_type": "execute_result"
    }
   ],
   "source": [
    "# Columns\n",
    "df.columns"
   ]
  },
  {
   "cell_type": "markdown",
   "id": "7c13bcde",
   "metadata": {},
   "source": [
    "## Exercise 1\n",
    "\n",
    "### 1.1 Contingency table\n",
    "**The \"Traveler type\" variable indicates the type of traveler, classified as Business, Couples, Families, Friends, or Solo (depending on whether they stayed at the hotel for business, as a couple, with family, with friends, or alone). The \"Period of stay\" variable indicates in which quarter the trip was made. We will create a contingency table between the \"Traveler type\" and \"Period of stay\" variables.**"
   ]
  },
  {
   "cell_type": "code",
   "execution_count": 5,
   "id": "07cb53f7",
   "metadata": {},
   "outputs": [
    {
     "data": {
      "text/html": [
       "<div>\n",
       "<style scoped>\n",
       "    .dataframe tbody tr th:only-of-type {\n",
       "        vertical-align: middle;\n",
       "    }\n",
       "\n",
       "    .dataframe tbody tr th {\n",
       "        vertical-align: top;\n",
       "    }\n",
       "\n",
       "    .dataframe thead th {\n",
       "        text-align: right;\n",
       "    }\n",
       "</style>\n",
       "<table border=\"1\" class=\"dataframe\">\n",
       "  <thead>\n",
       "    <tr style=\"text-align: right;\">\n",
       "      <th>Period of stay</th>\n",
       "      <th>Dec-Feb</th>\n",
       "      <th>Jun-Aug</th>\n",
       "      <th>Mar-May</th>\n",
       "      <th>Sep-Nov</th>\n",
       "    </tr>\n",
       "    <tr>\n",
       "      <th>Traveler type</th>\n",
       "      <th></th>\n",
       "      <th></th>\n",
       "      <th></th>\n",
       "      <th></th>\n",
       "    </tr>\n",
       "  </thead>\n",
       "  <tbody>\n",
       "    <tr>\n",
       "      <th>Business</th>\n",
       "      <td>24</td>\n",
       "      <td>10</td>\n",
       "      <td>20</td>\n",
       "      <td>20</td>\n",
       "    </tr>\n",
       "    <tr>\n",
       "      <th>Couples</th>\n",
       "      <td>51</td>\n",
       "      <td>50</td>\n",
       "      <td>54</td>\n",
       "      <td>59</td>\n",
       "    </tr>\n",
       "    <tr>\n",
       "      <th>Families</th>\n",
       "      <td>27</td>\n",
       "      <td>37</td>\n",
       "      <td>24</td>\n",
       "      <td>22</td>\n",
       "    </tr>\n",
       "    <tr>\n",
       "      <th>Friends</th>\n",
       "      <td>15</td>\n",
       "      <td>21</td>\n",
       "      <td>24</td>\n",
       "      <td>22</td>\n",
       "    </tr>\n",
       "    <tr>\n",
       "      <th>Solo</th>\n",
       "      <td>7</td>\n",
       "      <td>8</td>\n",
       "      <td>6</td>\n",
       "      <td>3</td>\n",
       "    </tr>\n",
       "  </tbody>\n",
       "</table>\n",
       "</div>"
      ],
      "text/plain": [
       "Period of stay  Dec-Feb  Jun-Aug  Mar-May  Sep-Nov\n",
       "Traveler type                                     \n",
       "Business             24       10       20       20\n",
       "Couples              51       50       54       59\n",
       "Families             27       37       24       22\n",
       "Friends              15       21       24       22\n",
       "Solo                  7        8        6        3"
      ]
     },
     "execution_count": 5,
     "metadata": {},
     "output_type": "execute_result"
    }
   ],
   "source": [
    "contingency_table = pd.crosstab(df['Traveler type'], df['Period of stay'])\n",
    "\n",
    "contingency_table"
   ]
  },
  {
   "cell_type": "markdown",
   "id": "72f42f5d",
   "metadata": {},
   "source": [
    "### 1.2 Basic Probability\n",
    "\n",
    "**If we choose an individual from the database at random, what is the probability that it corresponds to a customer who has stayed alone (Solo) and between June and August?**"
   ]
  },
  {
   "cell_type": "markdown",
   "id": "eba924a3",
   "metadata": {},
   "source": [
    "![figure1](mathfigures/figure1.png)"
   ]
  },
  {
   "cell_type": "code",
   "execution_count": 6,
   "id": "e6782081",
   "metadata": {},
   "outputs": [
    {
     "name": "stdout",
     "output_type": "stream",
     "text": [
      "The probability is: 0.015873\n"
     ]
    }
   ],
   "source": [
    "filtered_df = df[(df['Traveler type'] == 'Solo') & (df['Period of stay'] == 'Jun-Aug')]\n",
    "\n",
    "probability = len(filtered_df) / len(df)\n",
    "\n",
    "print(f\"The probability is: {probability:.6f}\")"
   ]
  },
  {
   "cell_type": "markdown",
   "id": "c3930730",
   "metadata": {},
   "source": [
    "**What is the probability that a business traveler stayed between December and February?**"
   ]
  },
  {
   "cell_type": "markdown",
   "id": "9ed45630",
   "metadata": {},
   "source": [
    "![figure2](mathfigures/figure2.png)"
   ]
  },
  {
   "cell_type": "code",
   "execution_count": 7,
   "id": "57cf1722",
   "metadata": {},
   "outputs": [
    {
     "name": "stdout",
     "output_type": "stream",
     "text": [
      "The probability is: 0.324324\n"
     ]
    }
   ],
   "source": [
    "filtered_business_df = df[(df['Traveler type'] == 'Business') & (df['Period of stay'] == 'Dec-Feb')]\n",
    "\n",
    "business_probability = len(filtered_business_df) / len(df[df['Traveler type'] == 'Business'])\n",
    "\n",
    "print(f\"The probability is: {business_probability:.6f}\")"
   ]
  },
  {
   "cell_type": "markdown",
   "id": "d76661e1",
   "metadata": {},
   "source": [
    "**What is the probability that a customer who stayed between March and May traveled as a couple?**"
   ]
  },
  {
   "cell_type": "markdown",
   "id": "ae404990",
   "metadata": {},
   "source": [
    "![figure3](mathfigures/figure3.png)"
   ]
  },
  {
   "cell_type": "code",
   "execution_count": 8,
   "id": "b2fa6f36",
   "metadata": {},
   "outputs": [
    {
     "name": "stdout",
     "output_type": "stream",
     "text": [
      "The probability is: 0.421875\n"
     ]
    }
   ],
   "source": [
    "filtered_couples_df = df[(df['Traveler type'] == 'Couples') & (df['Period of stay'] == 'Mar-May')]\n",
    "\n",
    "couples_probability = len(filtered_couples_df) / len(df[df['Period of stay']== 'Mar-May'])\n",
    "\n",
    "print(f\"The probability is: {couples_probability:.6f}\")"
   ]
  },
  {
   "cell_type": "markdown",
   "id": "d509b5b5",
   "metadata": {},
   "source": [
    "## Exercise 2\n",
    "\n",
    "### 2.1 Random Variables\n",
    "\n",
    "**If we choose a customer from the database at random, what is the probability that they traveled between September and November?**"
   ]
  },
  {
   "cell_type": "markdown",
   "id": "5e6041d9",
   "metadata": {},
   "source": [
    "![figure4](mathfigures/figure4.png)"
   ]
  },
  {
   "cell_type": "code",
   "execution_count": 9,
   "id": "240cfdcf",
   "metadata": {},
   "outputs": [
    {
     "name": "stdout",
     "output_type": "stream",
     "text": [
      "The probability is: 0.25\n"
     ]
    }
   ],
   "source": [
    "filtered_period_df = df[df['Period of stay'] == 'Sep-Nov']\n",
    "\n",
    "period_probability = len(filtered_period_df) / len(df)\n",
    "\n",
    "print(f\"The probability is: {period_probability:.2f}\")"
   ]
  },
  {
   "cell_type": "markdown",
   "id": "ed01d33b",
   "metadata": {},
   "source": [
    "**If we randomly select 5 customers from the database, with replacement, we consider the variable that indicates the number of customers, among the 5, who traveled between September and November.**\n",
    "\n",
    "- **What distribution does this variable follow? What are its parameters?**\n",
    "\n",
    "The variable indicating the number of customers, among the 5, who traveled between September and November follows a binomial distribution.\n",
    "\n",
    "The reasoning is that we are performing a series of independent trials (the selection of 5 customers, with replacement) with two possible outcomes: the customer traveled between September and November or did not. Each trial has the same probability of success (traveling between September and November).\n",
    "\n",
    "Parameters of the binomial distribution:\n",
    "\n",
    "- n = number of trials = 5 (since we are choosing 5 customers)\n",
    "- p = probability of success in a single trial = probability that a customer traveled between September and November.\n",
    "\n",
    "To get *p*, we would need to compute the proportion of customers in the dataset who traveled between September and November:"
   ]
  },
  {
   "cell_type": "code",
   "execution_count": 10,
   "id": "63679571",
   "metadata": {},
   "outputs": [
    {
     "name": "stdout",
     "output_type": "stream",
     "text": [
      "The probability p (success in a single trial) is: 0.2500\n"
     ]
    }
   ],
   "source": [
    "p = len(filtered_period_df) / len(df)\n",
    "\n",
    "print(f\"The probability p (success in a single trial) is: {p:.4f}\")"
   ]
  },
  {
   "cell_type": "markdown",
   "id": "c9d0bcd8",
   "metadata": {},
   "source": [
    "**What is the probability that none of the selected customers traveled between September and November?**\n",
    "\n",
    "For the binomial distribution, the probability of observing exactly \\( k \\) successes in \\( n \\) trials is typically represented by a formula involving combinations.\n",
    "\n",
    "Where:\n",
    "- \\( n \\) = number of trials (5 in this case)\n",
    "- \\( k \\) = number of successes (0 in this case, since we want the probability that none of the customers traveled in that period)\n",
    "- \\( p \\) = probability of success in a single trial (probability that a customer traveled between September and November)\n",
    "\n",
    "Given that we're interested in the scenario where \\( k = 0 \\), the formula can be simplified to:\n",
    "\\[ P(X = 0) = (1-p)^n \\]\n",
    "\n",
    "\n"
   ]
  },
  {
   "cell_type": "markdown",
   "id": "e1454063",
   "metadata": {},
   "source": [
    "![figure5](mathfigures/figure5.png)"
   ]
  },
  {
   "cell_type": "code",
   "execution_count": 11,
   "id": "f7850b1a",
   "metadata": {},
   "outputs": [
    {
     "name": "stdout",
     "output_type": "stream",
     "text": [
      "The probability that none of the selected customers traveled between September and November is: 0.23730\n"
     ]
    }
   ],
   "source": [
    "# With the appropriate Python code, this probability can be computed.\n",
    "n = 5\n",
    "\n",
    "probability_none_traveled = (1 - p)**n\n",
    "print(f\"The probability that none of the selected customers traveled between September and November is: {probability_none_traveled:.5f}\")"
   ]
  },
  {
   "cell_type": "markdown",
   "id": "0d0d61f0",
   "metadata": {},
   "source": [
    "**What is the probability that exactly 3 out of the 5 selected customers traveled between September and November?**\n",
    "\n",
    "To compute the probability that exactly 3 out of the 5 selected customers traveled between September and November, we can use the binomial distribution formula.\n",
    "\n",
    "Given:\n",
    "- \\( n \\) = number of trials (5 in this case)\n",
    "- \\( k \\) = number of successes (3 in this case)\n",
    "- \\( p \\) = probability of success in a single trial (probability that a customer traveled between September and November)"
   ]
  },
  {
   "cell_type": "markdown",
   "id": "a2b52eee",
   "metadata": {},
   "source": [
    "![figure6](mathfigures/figure6.png)"
   ]
  },
  {
   "cell_type": "code",
   "execution_count": 12,
   "id": "d4596a95",
   "metadata": {},
   "outputs": [
    {
     "name": "stdout",
     "output_type": "stream",
     "text": [
      "The probability that exactly 3 out of 5 customers traveled between September and November is: 0.08789\n"
     ]
    }
   ],
   "source": [
    "import math\n",
    "\n",
    "n = 5\n",
    "k = 3\n",
    "\n",
    "combination = math.comb(n, k)\n",
    "probability_three_traveled = combination * (p**k) * ((1 - p)**(n-k))\n",
    "print(f\"The probability that exactly 3 out of 5 customers traveled between September and November is: {probability_three_traveled:.5f}\")\n"
   ]
  },
  {
   "cell_type": "markdown",
   "id": "7328a066",
   "metadata": {},
   "source": [
    "## Exercise 3\n",
    "\n",
    "### 3.1 More distributions\n",
    "\n",
    "**Let's assume that we know the age of the customers from one of these hotels follows a normal distribution with a mean of 52 and a standard deviation of 11. If we select a random customer, what is the probability that they are older than 40 years?**"
   ]
  },
  {
   "cell_type": "code",
   "execution_count": 13,
   "id": "c589d738",
   "metadata": {},
   "outputs": [
    {
     "name": "stdout",
     "output_type": "stream",
     "text": [
      "The probability that a randomly selected customer is older than 40 years is: 0.8623\n"
     ]
    }
   ],
   "source": [
    "from scipy.stats import norm\n",
    "\n",
    "mean_age = 52\n",
    "std_dev = 11\n",
    "\n",
    "probability_older_than_40 = 1 - norm.cdf(40, mean_age, std_dev)\n",
    "print(f\"The probability that a randomly selected customer is older than 40 years is: {probability_older_than_40:.4f}\")"
   ]
  },
  {
   "cell_type": "markdown",
   "id": "28dcefeb",
   "metadata": {},
   "source": [
    "**Let´s determine the probability that a randomly selected customer is younger than 63 years using the normal distribution:**"
   ]
  },
  {
   "cell_type": "code",
   "execution_count": 14,
   "id": "9aa5fbab",
   "metadata": {},
   "outputs": [
    {
     "name": "stdout",
     "output_type": "stream",
     "text": [
      "The probability that a randomly selected customer is younger than 63 years is: 0.8413\n"
     ]
    }
   ],
   "source": [
    "probability_younger_than_63 = norm.cdf(63, mean_age, std_dev)\n",
    "print(f\"The probability that a randomly selected customer is younger than 63 years is: {probability_younger_than_63:.4f}\")"
   ]
  },
  {
   "cell_type": "markdown",
   "id": "4cc19334",
   "metadata": {},
   "source": [
    "**Find an age such that 25% of the hotel's customers are younger than that value and 75% of the customers are older.**\n",
    "\n",
    "\n",
    "The *norm.ppf()* function gives the value (in this case, age) at a specific percentile of a normal distribution. In this context, it gives the age below which 25% of the hotel's customers fall."
   ]
  },
  {
   "cell_type": "code",
   "execution_count": 15,
   "id": "086e7e6a",
   "metadata": {},
   "outputs": [
    {
     "name": "stdout",
     "output_type": "stream",
     "text": [
      "The age such that 25% of the hotel's customers are younger than that value is: 44.58 years\n"
     ]
    }
   ],
   "source": [
    "mean_age = 52\n",
    "std_dev = 11\n",
    "\n",
    "age_25th_percentile = norm.ppf(0.25, mean_age, std_dev)\n",
    "print(f\"The age such that 25% of the hotel's customers are younger than that value is: {age_25th_percentile:.2f} years\")"
   ]
  }
 ],
 "metadata": {
  "kernelspec": {
   "display_name": "Python 3 (ipykernel)",
   "language": "python",
   "name": "python3"
  },
  "language_info": {
   "codemirror_mode": {
    "name": "ipython",
    "version": 3
   },
   "file_extension": ".py",
   "mimetype": "text/x-python",
   "name": "python",
   "nbconvert_exporter": "python",
   "pygments_lexer": "ipython3",
   "version": "3.9.7"
  }
 },
 "nbformat": 4,
 "nbformat_minor": 5
}
