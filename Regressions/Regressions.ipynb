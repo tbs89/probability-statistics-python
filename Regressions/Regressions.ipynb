{
 "cells": [
  {
   "cell_type": "markdown",
   "id": "bab82d04",
   "metadata": {},
   "source": [
    "# Regressions"
   ]
  },
  {
   "cell_type": "markdown",
   "id": "f484b6bb",
   "metadata": {},
   "source": [
    "The following dataset contains information on the sleep patterns of a group of students who are preparing for the fifth examination of the subject \"Statistics and Probability\".\n",
    "\n",
    "The file can be found in our data folder. This database contains information related to sleep efficiency, age, gender, and other variables:\n",
    "\n",
    "- <code>ID:</code> Unique identifier for the student.\n",
    "- <code>Gender:</code> Student's gender (Female/Male).\n",
    "- <code>Age:</code> Student's age.\n",
    "- <code>Sleep duration:</code> The total sleep time of the student (in hours).\n",
    "- <code>Sleep efficiency:</code> Measure of the proportion of time spent sleeping in bed.\n",
    "- <code>REM sleep percentage:</code> The percentage of total sleep time dedicated to REM sleep.\n",
    "- <code>Awakenings:</code> The number of times the student wakes up during the night.\n",
    "- <code>Caffeine consumption:</code> The amount of caffeine consumed in the 24 hours before going to bed (in mg).\n",
    "- <code>Alcohol consumption:</code> The amount of alcohol consumed in the 24 hours before going to bed (in ml).\n",
    "- <code>Smoking status:</code> Whether the student smokes or not"
   ]
  },
  {
   "cell_type": "code",
   "execution_count": 1,
   "id": "f470a96a",
   "metadata": {},
   "outputs": [],
   "source": [
    "import pandas as pd\n",
    "import statsmodels.api as sm\n",
    "import scipy.stats as stats\n",
    "\n",
    "import matplotlib.pyplot as plt"
   ]
  },
  {
   "cell_type": "code",
   "execution_count": 2,
   "id": "18685bac",
   "metadata": {},
   "outputs": [
    {
     "data": {
      "text/html": [
       "<div>\n",
       "<style scoped>\n",
       "    .dataframe tbody tr th:only-of-type {\n",
       "        vertical-align: middle;\n",
       "    }\n",
       "\n",
       "    .dataframe tbody tr th {\n",
       "        vertical-align: top;\n",
       "    }\n",
       "\n",
       "    .dataframe thead th {\n",
       "        text-align: right;\n",
       "    }\n",
       "</style>\n",
       "<table border=\"1\" class=\"dataframe\">\n",
       "  <thead>\n",
       "    <tr style=\"text-align: right;\">\n",
       "      <th></th>\n",
       "      <th>ID</th>\n",
       "      <th>Age</th>\n",
       "      <th>Gender</th>\n",
       "      <th>Sleep.duration</th>\n",
       "      <th>Sleep.efficiency</th>\n",
       "      <th>REM.sleep.percentage</th>\n",
       "      <th>Awakenings</th>\n",
       "      <th>Caffeine.consumption</th>\n",
       "      <th>Alcohol.consumption</th>\n",
       "      <th>Smoking.status</th>\n",
       "    </tr>\n",
       "  </thead>\n",
       "  <tbody>\n",
       "    <tr>\n",
       "      <th>0</th>\n",
       "      <td>1</td>\n",
       "      <td>65</td>\n",
       "      <td>Female</td>\n",
       "      <td>6.0</td>\n",
       "      <td>0.88</td>\n",
       "      <td>18</td>\n",
       "      <td>0.0</td>\n",
       "      <td>0.0</td>\n",
       "      <td>0.0</td>\n",
       "      <td>Yes</td>\n",
       "    </tr>\n",
       "    <tr>\n",
       "      <th>1</th>\n",
       "      <td>2</td>\n",
       "      <td>69</td>\n",
       "      <td>Male</td>\n",
       "      <td>7.0</td>\n",
       "      <td>0.66</td>\n",
       "      <td>19</td>\n",
       "      <td>3.0</td>\n",
       "      <td>0.0</td>\n",
       "      <td>3.0</td>\n",
       "      <td>Yes</td>\n",
       "    </tr>\n",
       "    <tr>\n",
       "      <th>2</th>\n",
       "      <td>3</td>\n",
       "      <td>40</td>\n",
       "      <td>Female</td>\n",
       "      <td>8.0</td>\n",
       "      <td>0.89</td>\n",
       "      <td>20</td>\n",
       "      <td>1.0</td>\n",
       "      <td>0.0</td>\n",
       "      <td>0.0</td>\n",
       "      <td>No</td>\n",
       "    </tr>\n",
       "    <tr>\n",
       "      <th>3</th>\n",
       "      <td>4</td>\n",
       "      <td>40</td>\n",
       "      <td>Female</td>\n",
       "      <td>6.0</td>\n",
       "      <td>0.51</td>\n",
       "      <td>23</td>\n",
       "      <td>3.0</td>\n",
       "      <td>50.0</td>\n",
       "      <td>5.0</td>\n",
       "      <td>Yes</td>\n",
       "    </tr>\n",
       "    <tr>\n",
       "      <th>4</th>\n",
       "      <td>5</td>\n",
       "      <td>57</td>\n",
       "      <td>Male</td>\n",
       "      <td>8.0</td>\n",
       "      <td>0.76</td>\n",
       "      <td>27</td>\n",
       "      <td>3.0</td>\n",
       "      <td>0.0</td>\n",
       "      <td>3.0</td>\n",
       "      <td>No</td>\n",
       "    </tr>\n",
       "  </tbody>\n",
       "</table>\n",
       "</div>"
      ],
      "text/plain": [
       "   ID  Age  Gender  Sleep.duration  Sleep.efficiency  REM.sleep.percentage  \\\n",
       "0   1   65  Female             6.0              0.88                    18   \n",
       "1   2   69    Male             7.0              0.66                    19   \n",
       "2   3   40  Female             8.0              0.89                    20   \n",
       "3   4   40  Female             6.0              0.51                    23   \n",
       "4   5   57    Male             8.0              0.76                    27   \n",
       "\n",
       "   Awakenings  Caffeine.consumption  Alcohol.consumption Smoking.status  \n",
       "0         0.0                   0.0                  0.0            Yes  \n",
       "1         3.0                   0.0                  3.0            Yes  \n",
       "2         1.0                   0.0                  0.0             No  \n",
       "3         3.0                  50.0                  5.0            Yes  \n",
       "4         3.0                   0.0                  3.0             No  "
      ]
     },
     "execution_count": 2,
     "metadata": {},
     "output_type": "execute_result"
    }
   ],
   "source": [
    "df = pd.read_csv(\"data/data.csv\")\n",
    "df.head()"
   ]
  },
  {
   "cell_type": "markdown",
   "id": "86430c71",
   "metadata": {},
   "source": [
    "# Exercise 1\n",
    "\n",
    "The company responsible for creating the sleeping bag that improves sleep efficiency and simultaneously reduces delirium symptoms during exam periods is conducting an analysis to determine which age group they should target in their advertising campaigns."
   ]
  },
  {
   "cell_type": "markdown",
   "id": "4d493fb9",
   "metadata": {},
   "source": [
    "- **a) Create a scatter plot between the variable Sleep_efficiency and the variable Age. What is the correlation coefficient? Interpret the result.**"
   ]
  },
  {
   "cell_type": "code",
   "execution_count": 3,
   "id": "d3481f7f",
   "metadata": {},
   "outputs": [
    {
     "data": {
      "image/png": "[encoded data removed]",
      "text/plain": [
       "<Figure size 1000x600 with 1 Axes>"
      ]
     },
     "metadata": {},
     "output_type": "display_data"
    }
   ],
   "source": [
    "# Scatter plot\n",
    "\n",
    "plt.figure(figsize=(10, 6))\n",
    "\n",
    "plt.scatter(df['Age'], df['Sleep.efficiency'], color='blue', s=50, alpha=0.7, edgecolors='black')\n",
    "plt.xlabel('Age')\n",
    "plt.ylabel('Sleep Efficiency')\n",
    "plt.title('Scatter plot of Sleep Efficiency vs Age')\n",
    "\n",
    "plt.show()"
   ]
  },
  {
   "cell_type": "markdown",
   "id": "a2df7196",
   "metadata": {},
   "source": [
    "To compute the correlation, we can use the corr() method from pandas:"
   ]
  },
  {
   "cell_type": "code",
   "execution_count": 4,
   "id": "fc8fa50a",
   "metadata": {},
   "outputs": [
    {
     "data": {
      "text/plain": [
       "0.09835669021700891"
      ]
     },
     "execution_count": 4,
     "metadata": {},
     "output_type": "execute_result"
    }
   ],
   "source": [
    "# Correlation\n",
    "correlation = df['Age'].corr(df['Sleep.efficiency'])\n",
    "\n",
    "correlation"
   ]
  },
  {
   "cell_type": "markdown",
   "id": "c3dd6a35",
   "metadata": {},
   "source": [
    "The correlation coefficient is low, which implies a weak linear correlation between these two variables"
   ]
  },
  {
   "cell_type": "markdown",
   "id": "7fa07b01",
   "metadata": {},
   "source": [
    "- **b) Find the following two parameters of the linear regression model to be studied: the intercept (𝐵0) and the slope (𝐵1)**"
   ]
  },
  {
   "cell_type": "code",
   "execution_count": 5,
   "id": "9859795f",
   "metadata": {},
   "outputs": [
    {
     "name": "stdout",
     "output_type": "stream",
     "text": [
      "                            OLS Regression Results                            \n",
      "==============================================================================\n",
      "Dep. Variable:       Sleep.efficiency   R-squared:                       0.010\n",
      "Model:                            OLS   Adj. R-squared:                  0.007\n",
      "Method:                 Least Squares   F-statistic:                     4.396\n",
      "Date:                Tue, 19 Sep 2023   Prob (F-statistic):             0.0366\n",
      "Time:                        00:27:51   Log-Likelihood:                 265.67\n",
      "No. Observations:                 452   AIC:                            -527.3\n",
      "Df Residuals:                     450   BIC:                            -519.1\n",
      "Df Model:                           1                                         \n",
      "Covariance Type:            nonrobust                                         \n",
      "==============================================================================\n",
      "                 coef    std err          t      P>|t|      [0.025      0.975]\n",
      "------------------------------------------------------------------------------\n",
      "const          0.7482      0.020     36.657      0.000       0.708       0.788\n",
      "Age            0.0010      0.000      2.097      0.037    6.33e-05       0.002\n",
      "==============================================================================\n",
      "Omnibus:                       57.059   Durbin-Watson:                   2.102\n",
      "Prob(Omnibus):                  0.000   Jarque-Bera (JB):               40.895\n",
      "Skew:                          -0.627   Prob(JB):                     1.32e-09\n",
      "Kurtosis:                       2.225   Cond. No.                         137.\n",
      "==============================================================================\n",
      "\n",
      "Notes:\n",
      "[1] Standard Errors assume that the covariance matrix of the errors is correctly specified.\n",
      "Intercept (B0): 0.7482353273129556\n",
      "Slope (B1): 0.0010098100969050412\n"
     ]
    }
   ],
   "source": [
    "# Define the variables for the linear regression model\n",
    "X = df['Age']\n",
    "y = df['Sleep.efficiency']\n",
    "\n",
    "# Add an intercept to our model\n",
    "X = sm.add_constant(X)\n",
    "\n",
    "# Create a model\n",
    "model = sm.OLS(y, X).fit()\n",
    "\n",
    "# Print the summary statistics of the regression model\n",
    "print(model.summary())\n",
    "\n",
    "# Extracting the intercept (B0) and slope (B1)\n",
    "B0 = model.params[0]\n",
    "B1 = model.params[1]\n",
    "print(f\"Intercept (B0): {B0}\")\n",
    "print(f\"Slope (B1): {B1}\")"
   ]
  },
  {
   "cell_type": "markdown",
   "id": "d9379680",
   "metadata": {},
   "source": [
    "Intercept (B0): 0.7482353273129556\n",
    "\n",
    "Slope (B1): 0.0010098100969050412"
   ]
  },
  {
   "cell_type": "markdown",
   "id": "c70d4806",
   "metadata": {},
   "source": [
    "- **c) What proportion of the variation in sleep efficiency cannot be explained by age?**\n",
    "\n",
    "We know from theory that the coefficient of determination measures the percentage of variation in the dependent variable, and it corresponds to:"
   ]
  },
  {
   "cell_type": "code",
   "execution_count": 6,
   "id": "a7f085b3",
   "metadata": {},
   "outputs": [
    {
     "name": "stdout",
     "output_type": "stream",
     "text": [
      "0.009674038510444793\n"
     ]
    }
   ],
   "source": [
    "r_squared = model.rsquared\n",
    "print(r_squared)"
   ]
  },
  {
   "cell_type": "markdown",
   "id": "577dd64a",
   "metadata": {},
   "source": [
    "Thus, 1 - coefficient of determination = unexplained variation. In this case:"
   ]
  },
  {
   "cell_type": "code",
   "execution_count": 7,
   "id": "411f25c3",
   "metadata": {},
   "outputs": [
    {
     "name": "stdout",
     "output_type": "stream",
     "text": [
      "0.9903259614895552\n"
     ]
    }
   ],
   "source": [
    "unexplained_variation = 1 - r_squared\n",
    "print(unexplained_variation)"
   ]
  },
  {
   "cell_type": "markdown",
   "id": "ad1fbed4",
   "metadata": {},
   "source": [
    "Thus, \\(1 - \\text{coefficient of determination} = \\text{unexplained variation}\\). In this case: \\(1 - 0.009674 = 0.990326\\) (or 99.03%) represents the variation not explained by the model.\n",
    "\n",
    "1−0.009674=0.990326 (or 99.03%) represents the variation not explained by the model."
   ]
  },
  {
   "cell_type": "markdown",
   "id": "b4cd34d7",
   "metadata": {},
   "source": [
    "# Exercise 2"
   ]
  },
  {
   "cell_type": "markdown",
   "id": "aa3acb71",
   "metadata": {},
   "source": [
    "For the creation of the next improved version of the sleeping bag, different groups have been selected and subjected to various tests: the alarm test, the test of showing vacation photos before bedtime, and the caffeine consumption test.\n",
    "First, we'll analyze the data from the caffeine consumption test. We want to analyze if there are differences between the mean caffeine consumption (variable Caffeine.consumption) across the different created groups (stored in the variable caffeine_group, not available in the dataset). The output of the result is shown below:\n",
    "\n",
    "\n",
    "\n",
    "![figure1](mathfigures/figure1.png)"
   ]
  },
  {
   "cell_type": "markdown",
   "id": "d6e8578c",
   "metadata": {},
   "source": [
    "- **a) How many groups and how many observations are there in the dataset?**\n",
    "\n",
    "<br>\n",
    "\n",
    "- We know that \\( df1 = k \\) (number of groups) - 1. Since \\( df1 = 2 \\), the number of groups (k) is equal to 3 (\\( df+1 \\)).\n",
    "- Regarding the number of observations (N), we know that: \\( df2 = N \\) (number of observations) − \\( k \\) (number of groups). Therefore, \\( N = 189 + 3 = 192 \\).\n",
    "  \n",
    "Therefore, the number of groups is 3 and the number of observations is 192.\n",
    "\n",
    "\n",
    "\n",
    "\n",
    "- **b) If the significance level \\( \\alpha = 0.05 \\) is used, what critical value should be used to perform the variance analysis?**\n",
    "\n",
    "In this section, we are been asked for the critical value. We know that \\( df1 = 2 \\) and that \\( df2 = 189 \\), and for a significance level \\( \\alpha = 0.05 \\), we have:\n",
    "\\[ F(0.05;3–1;192–3) = 3.043722 \\]\n",
    "\n",
    "\n",
    "In Python:"
   ]
  },
  {
   "cell_type": "code",
   "execution_count": 8,
   "id": "9c97123c",
   "metadata": {},
   "outputs": [
    {
     "name": "stdout",
     "output_type": "stream",
     "text": [
      "Critical Value: 3.0437216938407836\n"
     ]
    }
   ],
   "source": [
    "alpha = 0.05\n",
    "df1 = 2\n",
    "df2 = 189\n",
    "\n",
    "critical_value = stats.f.ppf(1 - alpha, df1, df2)\n",
    "print(\"Critical Value:\", critical_value)"
   ]
  },
  {
   "cell_type": "markdown",
   "id": "a756cefc",
   "metadata": {},
   "source": [
    "- **c) State the hypothesis test and interpret the results based on the critical value (5% significance level)**\n",
    "\n",
    "\n",
    "First, let's define the hypothesis test:\n",
    "\n",
    "Null hypothesis (H0): There are no differences between the means of caffeine consumption among the different groups of the variable \"Caffeine consumption\"\n",
    "\n",
    "Alternative hypothesis (Ha): Not all means are equal. In other words, at least one mean of caffeine consumption among the different groups is different.\n",
    "\n",
    "Given that <code>F* > F(α, df1, df2)</code>, where α is the significance level, df1 is the numerator degrees of freedom (2), and df2 is the denominator degrees of freedom (189), i.e., 364.9 > 3.043722, we reject H0. Therefore, at least one of the means is different.\n",
    "\n",
    "In conclusion, there is evidence to suggest that there are differences in caffeine consumption means among the different groups."
   ]
  },
  {
   "cell_type": "markdown",
   "id": "50952f54",
   "metadata": {},
   "source": [
    "# Exercise 3"
   ]
  },
  {
   "cell_type": "markdown",
   "id": "19f7481c",
   "metadata": {},
   "source": [
    "Maria Angustias is concerned about her sleep efficiency. A salesperson for the sleeping bag wants to estimate Maria Angustias' sleep efficiency (variable Sleep.efficiency) using a multiple linear regression model with the following variables:\n",
    "\n",
    "- Age\n",
    "- Awakenings\n",
    "- Caffeine.consumption\n",
    "\n",
    "\n",
    "a) Write the multiple linear regression equation to explain the variable Sleep.efficiency using the variables Age, Awakenings, and Caffeine.consumption. (1 point).\n",
    "\n",
    "The multiple linear regression model can be represented as follows:\n",
    "\n",
    "In this equation:\n",
    "- B0 represents the intercept (constant).\n",
    "- B1 represents the coefficient for the Age variable.\n",
    "- B2 represents the coefficient for the Awakenings variable.\n",
    "- B3 represents the coefficient for the Caffeine.consumption variable."
   ]
  },
  {
   "cell_type": "code",
   "execution_count": 9,
   "id": "e8c7c045",
   "metadata": {},
   "outputs": [
    {
     "data": {
      "text/html": [
       "<table class=\"simpletable\">\n",
       "<caption>OLS Regression Results</caption>\n",
       "<tr>\n",
       "  <th>Dep. Variable:</th>    <td>Sleep.efficiency</td> <th>  R-squared:         </th> <td>   0.330</td>\n",
       "</tr>\n",
       "<tr>\n",
       "  <th>Model:</th>                   <td>OLS</td>       <th>  Adj. R-squared:    </th> <td>   0.325</td>\n",
       "</tr>\n",
       "<tr>\n",
       "  <th>Method:</th>             <td>Least Squares</td>  <th>  F-statistic:       </th> <td>   64.13</td>\n",
       "</tr>\n",
       "<tr>\n",
       "  <th>Date:</th>             <td>Tue, 19 Sep 2023</td> <th>  Prob (F-statistic):</th> <td>9.98e-34</td>\n",
       "</tr>\n",
       "<tr>\n",
       "  <th>Time:</th>                 <td>00:27:51</td>     <th>  Log-Likelihood:    </th> <td>  307.63</td>\n",
       "</tr>\n",
       "<tr>\n",
       "  <th>No. Observations:</th>      <td>   394</td>      <th>  AIC:               </th> <td>  -607.3</td>\n",
       "</tr>\n",
       "<tr>\n",
       "  <th>Df Residuals:</th>          <td>   390</td>      <th>  BIC:               </th> <td>  -591.3</td>\n",
       "</tr>\n",
       "<tr>\n",
       "  <th>Df Model:</th>              <td>     3</td>      <th>                     </th>     <td> </td>   \n",
       "</tr>\n",
       "<tr>\n",
       "  <th>Covariance Type:</th>      <td>nonrobust</td>    <th>                     </th>     <td> </td>   \n",
       "</tr>\n",
       "</table>\n",
       "<table class=\"simpletable\">\n",
       "<tr>\n",
       "            <td></td>              <th>coef</th>     <th>std err</th>      <th>t</th>      <th>P>|t|</th>  <th>[0.025</th>    <th>0.975]</th>  \n",
       "</tr>\n",
       "<tr>\n",
       "  <th>const</th>                <td>    0.8225</td> <td>    0.021</td> <td>   39.405</td> <td> 0.000</td> <td>    0.781</td> <td>    0.864</td>\n",
       "</tr>\n",
       "<tr>\n",
       "  <th>Age</th>                  <td>    0.0013</td> <td>    0.000</td> <td>    3.067</td> <td> 0.002</td> <td>    0.000</td> <td>    0.002</td>\n",
       "</tr>\n",
       "<tr>\n",
       "  <th>Awakenings</th>           <td>   -0.0554</td> <td>    0.004</td> <td>  -13.322</td> <td> 0.000</td> <td>   -0.064</td> <td>   -0.047</td>\n",
       "</tr>\n",
       "<tr>\n",
       "  <th>Caffeine.consumption</th> <td>    0.0002</td> <td>    0.000</td> <td>    0.807</td> <td> 0.420</td> <td>   -0.000</td> <td>    0.001</td>\n",
       "</tr>\n",
       "</table>\n",
       "<table class=\"simpletable\">\n",
       "<tr>\n",
       "  <th>Omnibus:</th>       <td>42.881</td> <th>  Durbin-Watson:     </th> <td>   2.086</td>\n",
       "</tr>\n",
       "<tr>\n",
       "  <th>Prob(Omnibus):</th> <td> 0.000</td> <th>  Jarque-Bera (JB):  </th> <td>  54.736</td>\n",
       "</tr>\n",
       "<tr>\n",
       "  <th>Skew:</th>          <td>-0.911</td> <th>  Prob(JB):          </th> <td>1.30e-12</td>\n",
       "</tr>\n",
       "<tr>\n",
       "  <th>Kurtosis:</th>      <td> 3.132</td> <th>  Cond. No.          </th> <td>    188.</td>\n",
       "</tr>\n",
       "</table><br/><br/>Notes:<br/>[1] Standard Errors assume that the covariance matrix of the errors is correctly specified."
      ],
      "text/latex": [
       "\\begin{center}\n",
       "\\begin{tabular}{lclc}\n",
       "\\toprule\n",
       "\\textbf{Dep. Variable:}       & Sleep.efficiency & \\textbf{  R-squared:         } &     0.330   \\\\\n",
       "\\textbf{Model:}               &       OLS        & \\textbf{  Adj. R-squared:    } &     0.325   \\\\\n",
       "\\textbf{Method:}              &  Least Squares   & \\textbf{  F-statistic:       } &     64.13   \\\\\n",
       "\\textbf{Date:}                & Tue, 19 Sep 2023 & \\textbf{  Prob (F-statistic):} &  9.98e-34   \\\\\n",
       "\\textbf{Time:}                &     00:27:51     & \\textbf{  Log-Likelihood:    } &    307.63   \\\\\n",
       "\\textbf{No. Observations:}    &         394      & \\textbf{  AIC:               } &    -607.3   \\\\\n",
       "\\textbf{Df Residuals:}        &         390      & \\textbf{  BIC:               } &    -591.3   \\\\\n",
       "\\textbf{Df Model:}            &           3      & \\textbf{                     } &             \\\\\n",
       "\\textbf{Covariance Type:}     &    nonrobust     & \\textbf{                     } &             \\\\\n",
       "\\bottomrule\n",
       "\\end{tabular}\n",
       "\\begin{tabular}{lcccccc}\n",
       "                              & \\textbf{coef} & \\textbf{std err} & \\textbf{t} & \\textbf{P$> |$t$|$} & \\textbf{[0.025} & \\textbf{0.975]}  \\\\\n",
       "\\midrule\n",
       "\\textbf{const}                &       0.8225  &        0.021     &    39.405  &         0.000        &        0.781    &        0.864     \\\\\n",
       "\\textbf{Age}                  &       0.0013  &        0.000     &     3.067  &         0.002        &        0.000    &        0.002     \\\\\n",
       "\\textbf{Awakenings}           &      -0.0554  &        0.004     &   -13.322  &         0.000        &       -0.064    &       -0.047     \\\\\n",
       "\\textbf{Caffeine.consumption} &       0.0002  &        0.000     &     0.807  &         0.420        &       -0.000    &        0.001     \\\\\n",
       "\\bottomrule\n",
       "\\end{tabular}\n",
       "\\begin{tabular}{lclc}\n",
       "\\textbf{Omnibus:}       & 42.881 & \\textbf{  Durbin-Watson:     } &    2.086  \\\\\n",
       "\\textbf{Prob(Omnibus):} &  0.000 & \\textbf{  Jarque-Bera (JB):  } &   54.736  \\\\\n",
       "\\textbf{Skew:}          & -0.911 & \\textbf{  Prob(JB):          } & 1.30e-12  \\\\\n",
       "\\textbf{Kurtosis:}      &  3.132 & \\textbf{  Cond. No.          } &     188.  \\\\\n",
       "\\bottomrule\n",
       "\\end{tabular}\n",
       "%\\caption{OLS Regression Results}\n",
       "\\end{center}\n",
       "\n",
       "Notes: \\newline\n",
       " [1] Standard Errors assume that the covariance matrix of the errors is correctly specified."
      ],
      "text/plain": [
       "<class 'statsmodels.iolib.summary.Summary'>\n",
       "\"\"\"\n",
       "                            OLS Regression Results                            \n",
       "==============================================================================\n",
       "Dep. Variable:       Sleep.efficiency   R-squared:                       0.330\n",
       "Model:                            OLS   Adj. R-squared:                  0.325\n",
       "Method:                 Least Squares   F-statistic:                     64.13\n",
       "Date:                Tue, 19 Sep 2023   Prob (F-statistic):           9.98e-34\n",
       "Time:                        00:27:51   Log-Likelihood:                 307.63\n",
       "No. Observations:                 394   AIC:                            -607.3\n",
       "Df Residuals:                     390   BIC:                            -591.3\n",
       "Df Model:                           3                                         \n",
       "Covariance Type:            nonrobust                                         \n",
       "========================================================================================\n",
       "                           coef    std err          t      P>|t|      [0.025      0.975]\n",
       "----------------------------------------------------------------------------------------\n",
       "const                    0.8225      0.021     39.405      0.000       0.781       0.864\n",
       "Age                      0.0013      0.000      3.067      0.002       0.000       0.002\n",
       "Awakenings              -0.0554      0.004    -13.322      0.000      -0.064      -0.047\n",
       "Caffeine.consumption     0.0002      0.000      0.807      0.420      -0.000       0.001\n",
       "==============================================================================\n",
       "Omnibus:                       42.881   Durbin-Watson:                   2.086\n",
       "Prob(Omnibus):                  0.000   Jarque-Bera (JB):               54.736\n",
       "Skew:                          -0.911   Prob(JB):                     1.30e-12\n",
       "Kurtosis:                       3.132   Cond. No.                         188.\n",
       "==============================================================================\n",
       "\n",
       "Notes:\n",
       "[1] Standard Errors assume that the covariance matrix of the errors is correctly specified.\n",
       "\"\"\""
      ]
     },
     "execution_count": 9,
     "metadata": {},
     "output_type": "execute_result"
    }
   ],
   "source": [
    "df = df.dropna()\n",
    "\n",
    "X = df[['Age', 'Awakenings', 'Caffeine.consumption']]\n",
    "\n",
    "X = sm.add_constant(X)\n",
    "\n",
    "y = df['Sleep.efficiency']\n",
    "\n",
    "model = sm.OLS(y, X).fit()\n",
    "\n",
    "model.summary()"
   ]
  },
  {
   "cell_type": "markdown",
   "id": "40a91ec6",
   "metadata": {},
   "source": [
    "- **b) Analyze the estimated model as a whole (significance at a 5% level and coefficient of determination)**\n",
    "\n",
    "To determine if the multiple linear regression model significantly explains the variable Sleep.efficiency, we need to perform the following hypothesis test:\n",
    "\n",
    "- Null Hypothesis: 𝛽1 = 𝛽2 = 𝛽3 = 0\n",
    "\n",
    "- Alternative Hypothesis: 𝛽𝑖 ≠ 0 (At least one of the coefficients is statistically different from 0).\n",
    "\n",
    "\n",
    "The F-test statistic is 67.59 with a p-value < 2.2e-16. Since the p-value is less than 0.05, we can reject the null hypothesis, concluding that the model is globally significant.\n",
    "\n",
    "To assess the goodness of fit, we examine the coefficient of determination, R-squared. In this case, the R-squared value is 0.3341661. This indicates that approximately 33.42% of the variance in the response variable (Sleep.efficiency) is explained by the model. Therefore, it is a model with relatively low explanatory power, even though it is significant."
   ]
  },
  {
   "cell_type": "markdown",
   "id": "bc9df818",
   "metadata": {},
   "source": [
    "- **c) Estimate the sleep efficiency (variable Sleep.efficiency) of a person who is 37 years old (variable Age), wakes up 5 times (variable Awakenings), and consumes 50mg of caffeine (variable Caffeine.consumption)**\n",
    "\n",
    "The estimated sleep efficiency for this person would be approximately 0.601 (60.1%). This can be calculated from the regression calculation:"
   ]
  },
  {
   "cell_type": "code",
   "execution_count": 10,
   "id": "820bba54",
   "metadata": {},
   "outputs": [
    {
     "data": {
      "text/plain": [
       "0.6010985999999999"
      ]
     },
     "execution_count": 10,
     "metadata": {},
     "output_type": "execute_result"
    }
   ],
   "source": [
    "predict = 0.8279512 + 0.0011967 * 37 - 0.0558381 * 5 + 0.0001612 * 50\n",
    "predict"
   ]
  },
  {
   "cell_type": "markdown",
   "id": "0979b431",
   "metadata": {},
   "source": [
    "- **d) If you had to remove one variable from the model in part a), considering a significance level of 5%, which one would you remove and why?**\n",
    "\n",
    "The variable Caffeine.consumption would be removed because its associated p-value is greater than 0.05, indicating that it is not statistically significant with the dependent variable."
   ]
  }
 ],
 "metadata": {
  "kernelspec": {
   "display_name": "Python 3 (ipykernel)",
   "language": "python",
   "name": "python3"
  },
  "language_info": {
   "codemirror_mode": {
    "name": "ipython",
    "version": 3
   },
   "file_extension": ".py",
   "mimetype": "text/x-python",
   "name": "python",
   "nbconvert_exporter": "python",
   "pygments_lexer": "ipython3",
   "version": "3.11.4"
  }
 },
 "nbformat": 4,
 "nbformat_minor": 5
}
